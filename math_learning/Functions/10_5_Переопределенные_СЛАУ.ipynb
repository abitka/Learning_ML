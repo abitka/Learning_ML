{
  "cells": [
    {
      "cell_type": "code",
      "execution_count": 1,
      "metadata": {
        "id": "xhhJ90U07c56"
      },
      "outputs": [],
      "source": [
        "from sympy import *\n",
        "import numpy"
      ]
    },
    {
      "cell_type": "code",
      "execution_count": 2,
      "metadata": {
        "id": "-vWbCFNq7c6K",
        "outputId": "bd4b13fe-edca-433a-b505-54b3ee1f4a44"
      },
      "outputs": [
        {
          "data": {
            "text/latex": [
              "$\\displaystyle 16.875$"
            ],
            "text/plain": [
              "16.8750000000000"
            ]
          },
          "execution_count": 2,
          "metadata": {},
          "output_type": "execute_result"
        }
      ],
      "source": [
        "a1, a2 = symbols('a1, a2')\n",
        "\n",
        "MSE = 1 / 4 * ((4.1 * a1 + 3.9 * a2 - 4.0)**2 + \\\n",
        "               (4.7 * a1 + 4.2 * a2 - 4.3)**2 + \\\n",
        "               (3.1 * a1 + 2.9 * a2 - 3.0)**2 + \\\n",
        "               (4.9 * a1 + 5.0 * a2 - 4.9)**2)\n",
        "# Проверяем чему равно MSE в точке (0, 0)\n",
        "MSE.subs({a1: 0, a2: 0})"
      ]
    },
    {
      "cell_type": "code",
      "execution_count": 3,
      "metadata": {
        "id": "MyqlW7Nx7c6Z",
        "outputId": "1a94048b-2847-4439-ffc9-a6527eb6a821"
      },
      "outputs": [
        {
          "data": {
            "text/latex": [
              "$\\displaystyle 36.26 a_{1} + 34.61 a_{2} - 34.96$"
            ],
            "text/plain": [
              "36.26*a1 + 34.61*a2 - 34.96"
            ]
          },
          "execution_count": 3,
          "metadata": {},
          "output_type": "execute_result"
        }
      ],
      "source": [
        "# Находим производную по a1\n",
        "MSEa1 = diff(MSE, a1)\n",
        "MSEa1"
      ]
    },
    {
      "cell_type": "code",
      "execution_count": 4,
      "metadata": {
        "id": "f-SQvcfW7c6k",
        "outputId": "8a53af4d-9ed8-411d-c2ad-2df4f5cb8c46"
      },
      "outputs": [
        {
          "data": {
            "text/latex": [
              "$\\displaystyle 34.61 a_{1} + 33.13 a_{2} - 33.43$"
            ],
            "text/plain": [
              "34.61*a1 + 33.13*a2 - 33.43"
            ]
          },
          "execution_count": 4,
          "metadata": {},
          "output_type": "execute_result"
        }
      ],
      "source": [
        "# Находим производную по a2\n",
        "MSEa2 = diff(MSE, a2)\n",
        "MSEa2"
      ]
    },
    {
      "cell_type": "code",
      "execution_count": 5,
      "metadata": {
        "id": "p5nX5ir_7c6t"
      },
      "outputs": [],
      "source": [
        "# задаем шаг спуска по градиенту\n",
        "step = 0.01"
      ]
    },
    {
      "cell_type": "code",
      "execution_count": 10,
      "metadata": {
        "id": "wZnRQ_Ex7c61"
      },
      "outputs": [],
      "source": [
        "point = numpy.array([0, 0])"
      ]
    },
    {
      "cell_type": "code",
      "execution_count": 11,
      "metadata": {
        "id": "_gsBmERo7c66",
        "outputId": "27190158-89ac-4e14-840f-099255240c26"
      },
      "outputs": [
        {
          "data": {
            "text/plain": [
              "array([-34.9600000000000, -33.4300000000000], dtype=object)"
            ]
          },
          "execution_count": 11,
          "metadata": {},
          "output_type": "execute_result"
        }
      ],
      "source": [
        "grad = numpy.array([MSEa1.subs({a1: point[0], a2: point[1]}),\n",
        "                    MSEa2.subs({a1: point[0], a2: point[1]})])\n",
        "grad"
      ]
    },
    {
      "cell_type": "code",
      "execution_count": 12,
      "metadata": {
        "id": "jd2cjwOj7c7A",
        "outputId": "8c2fb0f2-b7fa-46d5-fc25-3aa45149cf6b"
      },
      "outputs": [
        {
          "data": {
            "text/plain": [
              "array([0.349600000000000, 0.334300000000000], dtype=object)"
            ]
          },
          "execution_count": 12,
          "metadata": {},
          "output_type": "execute_result"
        }
      ],
      "source": [
        "next_point = point - step * grad\n",
        "next_point"
      ]
    },
    {
      "cell_type": "code",
      "execution_count": 13,
      "metadata": {
        "id": "C4UUXFI67c7F",
        "outputId": "340fa9a3-74a3-4f11-b681-6562ee637ec6"
      },
      "outputs": [
        {
          "data": {
            "text/latex": [
              "$\\displaystyle 1.58934775845$"
            ],
            "text/plain": [
              "1.58934775845000"
            ]
          },
          "execution_count": 13,
          "metadata": {},
          "output_type": "execute_result"
        }
      ],
      "source": [
        "MSE.subs({a1: next_point[0], a2: next_point[1]})"
      ]
    },
    {
      "cell_type": "code",
      "execution_count": null,
      "metadata": {
        "id": "TE3xV1nW7c7I"
      },
      "outputs": [],
      "source": []
    }
  ],
  "metadata": {
    "colab": {
      "provenance": []
    },
    "kernelspec": {
      "display_name": "Python 3",
      "language": "python",
      "name": "python3"
    },
    "language_info": {
      "codemirror_mode": {
        "name": "ipython",
        "version": 3
      },
      "file_extension": ".py",
      "mimetype": "text/x-python",
      "name": "python",
      "nbconvert_exporter": "python",
      "pygments_lexer": "ipython3",
      "version": "3.11.5"
    }
  },
  "nbformat": 4,
  "nbformat_minor": 0
}
