{
 "cells": [
  {
   "cell_type": "markdown",
   "metadata": {},
   "source": [
    "8.2 Задача аппроксимации функцией многих переменных <br>\n",
    "Сравнение MSE двух функций: <br>\n",
    "- f1 = 100*x2 - 1*x1 - 100\n",
    "- f2 = 200*x2 + 3*x1 + 20\n",
    "<br>\n",
    "\n",
    "Функция f1 лучше описывает данные, чем f2 т.к. <br>\n",
    "MSE ф-н f1 = 518.333,3333 тогда так <br>\n",
    "MSE ф-н f2 = 1.691.400"
   ]
  },
  {
   "cell_type": "code",
   "execution_count": 1,
   "metadata": {},
   "outputs": [],
   "source": [
    "from sympy import *\n",
    "from sympy.plotting import plot3d\n",
    "\n",
    "init_printing(use_unicode=0, wrap_line=0, no_global=1)"
   ]
  },
  {
   "cell_type": "code",
   "execution_count": 2,
   "metadata": {},
   "outputs": [
    {
     "data": {
      "image/png": "[encoded data removed]",
      "text/latex": [
       "$\\displaystyle 0.333333333333333 \\left(a_{0} + 200 a_{1} + 2 a_{2} - 200\\right)^{2} + 0.333333333333333 \\left(a_{0} + 450 a_{1} + a_{2} - 300\\right)^{2} + 0.333333333333333 \\left(a_{0} + 550 a_{1} + 3 a_{2} - 600\\right)^{2}$"
      ],
      "text/plain": [
       "                                            2                                 \n",
       "0.333333333333333*(a0 + 200*a1 + 2*a2 - 200)  + 0.333333333333333*(a0 + 450*a1\n",
       "\n",
       "            2                                               2\n",
       " + a2 - 300)  + 0.333333333333333*(a0 + 550*a1 + 3*a2 - 600) "
      ]
     },
     "execution_count": 2,
     "metadata": {},
     "output_type": "execute_result"
    }
   ],
   "source": [
    "a2, a1, a0 = symbols(\"a2, a1, a0\")\n",
    "\n",
    "MSE = 1/3 * (((a2*2 + a1*200 + a0) - 200)**2 +\n",
    "             ((a2*1 + a1*450 + a0) - 300)**2 +\n",
    "             ((a2*3 + a1*550 + a0) - 600)**2)\n",
    "MSE"
   ]
  },
  {
   "cell_type": "code",
   "execution_count": 4,
   "metadata": {},
   "outputs": [],
   "source": [
    "# {a2: 1, a1: 2, a0: 3}\n",
    "\n",
    "# f1 = 100*x2 - 1*x1 - 100\n",
    "# f2 = 200*x2 + 3*x1 + 20"
   ]
  },
  {
   "cell_type": "code",
   "execution_count": 5,
   "metadata": {},
   "outputs": [
    {
     "data": {
      "image/png": "[encoded data removed]",
      "text/latex": [
       "$\\displaystyle 518333.333333333$"
      ],
      "text/plain": [
       "518333.333333333"
      ]
     },
     "execution_count": 5,
     "metadata": {},
     "output_type": "execute_result"
    }
   ],
   "source": [
    "MSE.subs({a2: 100, a1: -1, a0: -100})"
   ]
  },
  {
   "cell_type": "code",
   "execution_count": 6,
   "metadata": {},
   "outputs": [
    {
     "data": {
      "image/png": "[encoded data removed]",
      "text/latex": [
       "$\\displaystyle 1691400.0$"
      ],
      "text/plain": [
       "1691400.00000000"
      ]
     },
     "execution_count": 6,
     "metadata": {},
     "output_type": "execute_result"
    }
   ],
   "source": [
    "MSE.subs({a2: 200, a1: 3, a0: 20})"
   ]
  },
  {
   "cell_type": "markdown",
   "metadata": {},
   "source": [
    "Функция f1 лучше описывает данные, чем f2 т.к. MSE ф-н f1 = 518.333,3333 тогда так MSE f2 = 1.691.400"
   ]
  },
  {
   "cell_type": "code",
   "execution_count": null,
   "metadata": {},
   "outputs": [],
   "source": []
  }
 ],
 "metadata": {
  "kernelspec": {
   "display_name": ".venv",
   "language": "python",
   "name": "python3"
  },
  "language_info": {
   "codemirror_mode": {
    "name": "ipython",
    "version": 3
   },
   "file_extension": ".py",
   "mimetype": "text/x-python",
   "name": "python",
   "nbconvert_exporter": "python",
   "pygments_lexer": "ipython3",
   "version": "3.11.5"
  }
 },
 "nbformat": 4,
 "nbformat_minor": 2
}
