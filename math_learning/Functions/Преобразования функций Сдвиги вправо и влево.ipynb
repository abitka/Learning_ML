{
  "cells": [
    {
      "cell_type": "markdown",
      "metadata": {
        "colab_type": "text",
        "id": "eD2EhUUx5TNH"
      },
      "source": [
        "5.3 Преобразования функций Сдвиги вправо и влево.ipynb"
      ]
    },
    {
      "cell_type": "code",
      "execution_count": null,
      "metadata": {
        "colab": {},
        "colab_type": "code",
        "id": "6jTnfZNO8EIx"
      },
      "outputs": [],
      "source": [
        "import matplotlib.pyplot as plt\n",
        "import numpy as np\n",
        "from sympy import *\n",
        "from sympy.plotting import plot\n",
        "from sympy.plotting import plot3d\n",
        "from sympy import solve_univariate_inequality\n",
        "\n",
        "init_printing(use_unicode=False, wrap_line=False, no_global=True)"
      ]
    },
    {
      "cell_type": "code",
      "execution_count": null,
      "metadata": {
        "colab": {},
        "colab_type": "code",
        "id": "vR8eUwC88EJC"
      },
      "outputs": [],
      "source": [
        "def print_points_ands_function(sympy_function):\n",
        "    def function(x_): return float(sympy_function.subs(x, x_))\n",
        "    \n",
        "    points_X = np.array([-5, -4, -3, -2, -1, 1, 2, 3, 4, 5])\n",
        "    points_Y = np.array([23, 19, 5, 7, 3, 2, 9, 19, 8, 22])\n",
        "    plt.xlim(-15, 15)\n",
        "    plt.ylim(-5, 40)\n",
        "    \n",
        "    plt.scatter(points_X, points_Y, c='r')\n",
        "    x_range = np.linspace(plt.xlim()[0], plt.xlim()[1], num=100)\n",
        "    function_Y = [function(x_) for x_ in x_range]\n",
        "    plt.plot(x_range, function_Y, 'b')\n",
        "    plt.show()\n",
        "    \n",
        "    MSE = sum([(points_Y[i] - function(points_X[i]))**2 for i in range(len(points_Y))]) / len(points_Y)\n",
        "    print(f'MSE = {MSE}')"
      ]
    },
    {
      "cell_type": "code",
      "execution_count": null,
      "metadata": {},
      "outputs": [],
      "source": [
        "x = Symbol(\"x\")\n",
        "\n",
        "f = x**2 / 3\n",
        "print(f\"original: {f}\")\n",
        "print_points_ands_function(f)"
      ]
    },
    {
      "cell_type": "code",
      "execution_count": null,
      "metadata": {},
      "outputs": [],
      "source": [
        "f_new = f.subs(x, x*1.9)\n",
        "print(f_new)\n",
        "print_points_ands_function(f_new)"
      ]
    },
    {
      "cell_type": "code",
      "execution_count": null,
      "metadata": {},
      "outputs": [],
      "source": [
        "f2 = f * 3\n",
        "print_points_ands_function(f2)"
      ]
    },
    {
      "cell_type": "code",
      "execution_count": null,
      "metadata": {},
      "outputs": [],
      "source": [
        "# поиск производной функции f(x) = kx + b при k = 0.5\n",
        "# answer: 2b - 10/3\n",
        "# 2b - 10/3 > 0 => 2b > 10/3 => b > 5/3 (divided 2b & 10/3 on 2)\n",
        "# 2b - 10/3 < 0 => b < 5/3\n",
        "# 2b - 10/3 = 0 => b = 5/3"
      ]
    },
    {
      "cell_type": "code",
      "execution_count": null,
      "metadata": {},
      "outputs": [],
      "source": [
        "x, y, z = symbols(\"x, y, z\")\n",
        "\n",
        "f = 0.8*x + 20*y\n",
        "plot3d(f)"
      ]
    },
    {
      "cell_type": "code",
      "execution_count": null,
      "metadata": {},
      "outputs": [],
      "source": [
        "f1 = x*y / sqrt(x**2 + y**2 - 5)\n",
        "f1"
      ]
    },
    {
      "cell_type": "code",
      "execution_count": null,
      "metadata": {},
      "outputs": [],
      "source": [
        "plot3d(f1)"
      ]
    },
    {
      "cell_type": "code",
      "execution_count": null,
      "metadata": {},
      "outputs": [],
      "source": [
        "from random import randint\n",
        "\n",
        "\n",
        "f = 5*x - 3*y + 2\n",
        "print(pretty(solve(f), use_unicode=1))\n",
        "# 5x - 3y + 2 = 0\n",
        "# 5x = 3y - 2 / 5\n",
        "# x = 3/5y - 2/5\n",
        "some_y = randint(0, 9)\n",
        "some_x = 3/5 * some_y - 2/5\n",
        "print(f\"x={some_x}, y={some_y}\")\n",
        "print(5* some_x - 3*some_y + 2)"
      ]
    },
    {
      "cell_type": "code",
      "execution_count": null,
      "metadata": {},
      "outputs": [],
      "source": [
        "a1, a2 = symbols(\"a1, a2\")\n",
        "MSE = 1/4 * (\n",
        "    (a1*1 + a2*2 - 5)**2 + \n",
        "    (a1*5 + a2*3 - 6)**2 +\n",
        "    (a1*2 + a2*4 - 10)**2 +\n",
        "    (a1*3 + a2*7 - 8)**2\n",
        "             )\n",
        "# поиск производных для MSE(a1) и MSE(a2)\n",
        "gradMSEa1 = diff(MSE, a1)\n",
        "gradMSEa2 = diff(MSE, a2)\n",
        "print(\"a1: \" + pretty(gradMSEa1))\n",
        "print(\"a2: \" + pretty(gradMSEa2))\n",
        "\n",
        "print(f\"point a1: {gradMSEa1.subs({a1: 0.395, a2: 0.62})}\")\n",
        "print(f\"point a2: {gradMSEa2.subs({a1: 0.395, a2: 0.62})}\")\n",
        "\n",
        "\n",
        "# MSE.subs([(a1, 0.5), (a2, 1.3)]) or\n",
        "MSE.subs({a1: 0.5, a2: 1.3})\n",
        "\n"
      ]
    },
    {
      "cell_type": "code",
      "execution_count": null,
      "metadata": {},
      "outputs": [],
      "source": [
        "x, y, z = symbols(\"x, y, z\")\n",
        "\n",
        "MSE = 1/6 * ((5*x + 7*y - 5*z + 47)**2 +\n",
        "             (-2*y - 2*z - 10)**2 +\n",
        "             (-4*x - 8*y - 7*z - 63)**2 +\n",
        "             (x + y + 2*z + 1)**2 +\n",
        "             (2*x - y + 2*z + 4)**2 +\n",
        "             (4*x + y + 4*z + 2)**2)\n",
        "# значение ошибки в точке [0,0,0]\n",
        "startMSEvalue = MSE.subs({x: 0, y: 0, z: 0})\n",
        "print(startMSEvalue)\n",
        "\n",
        "# вычисляем частные производные\n",
        "MSEx = diff(MSE, x)\n",
        "MSEy = diff(MSE, y)\n",
        "MSEz = diff(MSE, z)\n",
        "print(f\"MSEx: {pretty(MSEx)}\\nMSEy: {pretty(MSEy)}\\nMSEz: {pretty(MSEz)}\")\n",
        "\n",
        "# задаем шаг \n",
        "step = 0.01\n",
        "# начальная точка\n",
        "startPoint = np.array([0, 0, 0])\n",
        "lastMSEvalue = startMSEvalue\n",
        "count = 0\n",
        "\n",
        "while(lastMSEvalue > 55):\n",
        "    # задаем градиент и вычисляем начальную точку\n",
        "    grad = np.array([MSEx.subs({x: startPoint[0], y: startPoint[1], z: startPoint[2]}), \n",
        "                    MSEy.subs({x: startPoint[0], y: startPoint[1], z: startPoint[2]}), \n",
        "                    MSEz.subs({x: startPoint[0], y: startPoint[1], z: startPoint[2]})])\n",
        "    # значения градиента начальной точки\n",
        "    print(grad)\n",
        "\n",
        "    # делаем 1 шаг по градиентому спуску\n",
        "    nextPoint = startPoint - step  * grad\n",
        "    print(f\"one step by grad:\\n{nextPoint}\")\n",
        "    startPoint = nextPoint\n",
        "\n",
        "    # вычисляем значение ошибки\n",
        "    lastMSEvalue = MSE.subs({x: nextPoint[0], y: nextPoint[1], z: nextPoint[2]})\n",
        "    print(lastMSEvalue)\n",
        "    count +=1\n",
        "\n",
        "print(count)\n",
        "print(lastMSEvalue)"
      ]
    },
    {
      "cell_type": "code",
      "execution_count": null,
      "metadata": {},
      "outputs": [],
      "source": [
        "A1 = np.array([[1, -5, 3],[7.5, -12.5, 6]])\n",
        "A2 = np.array([[1, 2],[3, 4],[5, 6]])\n",
        "np.matmul(A2, A1)\n",
        "\n",
        "A1 = np.array([[5, 5],[7, 8]])\n",
        "A2 = np.array([[1, 2],[3, 4]])\n",
        "print(np.matmul(A1, A2))\n",
        "print(np.matmul(A2, A1))\n",
        "\n",
        "\n",
        "# нахождение определителя матрицы\n",
        "X = np.array([[6, 5, 7],[6, 3, 4],[5, -2, -3]])\n",
        "print(X)\n",
        "np.linalg.det(X)"
      ]
    },
    {
      "cell_type": "code",
      "execution_count": 294,
      "metadata": {},
      "outputs": [
        {
          "name": "stdout",
          "output_type": "stream",
          "text": [
            " [[ 5.  7. -5.]\n",
            "  [ 0. -2.  2.]\n",
            "  [-4. -8. -7.]\n",
            "  [ 1.  1.  2.]\n",
            "  [ 2. -1.  2.]\n",
            " [ 4.  1.  4.]]\n",
            "[[ 62.  70.  25.]\n",
            " [ 70. 120.  21.]\n",
            " [ 25.  21. 102.]]\n"
          ]
        },
        {
          "data": {
            "text/plain": [
              "array([[  0.90967742,   0.51428571, -28.90451613,  -0.11041475,\n",
              "         -0.3918894 ,  -0.47760369],\n",
              "       [  5.09166667,   0.78571429, -28.8       ,  -0.11785714,\n",
              "         -0.46190476,  -0.51190476],\n",
              "       [-22.7627451 ,  -0.75630252, -38.40352941,  -0.10722689,\n",
              "         -0.20795518,  -0.49366947]])"
            ]
          },
          "execution_count": 294,
          "metadata": {},
          "output_type": "execute_result"
        }
      ],
      "source": [
        "X = np.array([[5.0, 7.0, -5.0],\n",
        "             [0.0, -2.0, 2.0],\n",
        "             [-4.0, -8.0, -7.0],\n",
        "             [1.0, 1.0, 2.0],\n",
        "             [2.0, -1.0, 2.0],\n",
        "             [4.0, 1.0, 4.0]])\n",
        "print(pretty(X))\n",
        "b = np.array([-47.0, 10.0, 63.0, -1.0, -4.0, -2.0])\n",
        "\n",
        "# (X.T * X)**-1 * X.T\n",
        "mul = np.matmul(X.T, X)\n",
        "print(mul)\n",
        "# np.linalg.det(mul)\n",
        "\n",
        "(X.T @ X)**-1 @ X.T * b"
      ]
    }
  ],
  "metadata": {
    "colab": {
      "name": "Свойства коэффициентов квадратичной функции. Практика.ipynb",
      "provenance": []
    },
    "kernelspec": {
      "display_name": "Python 3",
      "language": "python",
      "name": "python3"
    },
    "language_info": {
      "codemirror_mode": {
        "name": "ipython",
        "version": 3
      },
      "file_extension": ".py",
      "mimetype": "text/x-python",
      "name": "python",
      "nbconvert_exporter": "python",
      "pygments_lexer": "ipython3",
      "version": "3.11.5"
    },
    "widgets": {
      "application/vnd.jupyter.widget-state+json": {
        "23b53252b1624e90804a7c7447562d67": {
          "model_module": "@jupyter-widgets/controls",
          "model_name": "VBoxModel",
          "state": {
            "_dom_classes": [
              "widget-interact"
            ],
            "_model_module": "@jupyter-widgets/controls",
            "_model_module_version": "1.5.0",
            "_model_name": "VBoxModel",
            "_view_count": null,
            "_view_module": "@jupyter-widgets/controls",
            "_view_module_version": "1.5.0",
            "_view_name": "VBoxView",
            "box_style": "",
            "children": [
              "IPY_MODEL_c0aac1d33ec64b58a987c5931ca76df2",
              "IPY_MODEL_d78373d6170641b4972a006443c3c716",
              "IPY_MODEL_f30928aa317240f1b817c9863da58c1e",
              "IPY_MODEL_0de35e308c82461ba14ef9d2505f1b11"
            ],
            "layout": "IPY_MODEL_444c7bc3446548888acf56071411f992"
          }
        },
        "92dac8a4be7a4aefa864a0f42507de69": {
          "model_module": "@jupyter-widgets/controls",
          "model_name": "VBoxModel",
          "state": {
            "_dom_classes": [
              "widget-interact"
            ],
            "_model_module": "@jupyter-widgets/controls",
            "_model_module_version": "1.5.0",
            "_model_name": "VBoxModel",
            "_view_count": null,
            "_view_module": "@jupyter-widgets/controls",
            "_view_module_version": "1.5.0",
            "_view_name": "VBoxView",
            "box_style": "",
            "children": [
              "IPY_MODEL_eb9f298816a0464f90b78131457eedfe",
              "IPY_MODEL_a10069c96f7d45cab08408305b670988",
              "IPY_MODEL_de7aa150ba654fa88390d2a08ae964e4",
              "IPY_MODEL_f11fe5be00a54bc889dc894499764724"
            ],
            "layout": "IPY_MODEL_ab7a4fb654b64c4797acc5e305e71e4d"
          }
        }
      }
    }
  },
  "nbformat": 4,
  "nbformat_minor": 0
}
