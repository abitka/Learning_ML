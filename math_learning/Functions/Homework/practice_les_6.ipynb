{
  "cells": [
    {
      "cell_type": "markdown",
      "metadata": {
        "id": "gh5MFNIuwemF"
      },
      "source": [
        "## Практика. Дополнительный функционал SymPy для исследования функций.\n",
        "\n",
        "В качестве практики найдите нули  и промежутки знакопостоянства функций, с которыми вы работали в рамках предыдущей практики:\n",
        "1. $f(x)=e^x$\n",
        "2. $f(x)=ln(x)$\n",
        "3. $f(x)=2x^2+3x-5$\n",
        "4. $f(x)=\\sqrt x$\n",
        "<br>\n",
        "\n",
        "Проверьте, согласуются ли найденные вами значения с поведением графика.\n",
        "\n"
      ]
    },
    {
      "cell_type": "code",
      "execution_count": null,
      "metadata": {
        "id": "dH1cEQ2-zu_i"
      },
      "outputs": [],
      "source": []
    }
  ],
  "metadata": {
    "colab": {
      "provenance": []
    },
    "kernelspec": {
      "display_name": "Python 3",
      "name": "python3"
    },
    "language_info": {
      "name": "python",
      "version": "3.11.5"
    }
  },
  "nbformat": 4,
  "nbformat_minor": 0
}
