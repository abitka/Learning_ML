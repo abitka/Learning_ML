{
 "cells": [
  {
   "cell_type": "markdown",
   "metadata": {},
   "source": [
    "В качестве практического задания найдите наилучшую функцию, приближающую зависимость площади дома от его цены и количества этажей. Известные данные остаются теми же, но теперь вам нужно будет предсказать площадь дома, а не его цену. Цена дома, в свою очередь, теперь будет известна. \n",
    "Данные для аппроксимации в таблице ниже:\n",
    "\n",
    "| цена дома | количество этажей | площадь дома |\n",
    "|-----------|-------------------|--------------|\n",
    "| 200       | 2                 | 200          |\n",
    "| 300       | 1                 | 450          |\n",
    "| 600       | 3                 | 550          |\n",
    "| 666       | 4                 | ?            |\n",
    "\n",
    "Выпишите MSE, найдите его частные производные, затем с помощью sympy найдите точку минимума и предскажите цену дома ценой 666 тысяч рублей и высотой в 4 этажа. Получилось ли у вас значение цены, близкое к тому, которое было нам известно на уроке?\n"
   ]
  },
  {
   "cell_type": "code",
   "execution_count": 28,
   "metadata": {},
   "outputs": [],
   "source": [
    "from sympy import *"
   ]
  },
  {
   "cell_type": "code",
   "execution_count": 29,
   "metadata": {},
   "outputs": [],
   "source": [
    "x1, x2, a2, a1, a0 = symbols(\"x1, x2, a2, a1, a0\")"
   ]
  },
  {
   "cell_type": "code",
   "execution_count": 30,
   "metadata": {},
   "outputs": [
    {
     "data": {
      "text/latex": [
       "$\\displaystyle 0.333333333333333 \\left(a_{0} + 200 a_{1} + 2 a_{2} - 200\\right)^{2} + 0.333333333333333 \\left(a_{0} + 300 a_{1} + a_{2} - 450\\right)^{2} + 0.333333333333333 \\left(a_{0} + 600 a_{1} + 3 a_{2} - 550\\right)^{2}$"
      ],
      "text/plain": [
       "0.333333333333333*(a0 + 200*a1 + 2*a2 - 200)**2 + 0.333333333333333*(a0 + 300*a1 + a2 - 450)**2 + 0.333333333333333*(a0 + 600*a1 + 3*a2 - 550)**2"
      ]
     },
     "execution_count": 30,
     "metadata": {},
     "output_type": "execute_result"
    }
   ],
   "source": [
    "MSE = 1/3*(((a2*2 + a1*200 + a0) - 200)**2 +\n",
    "           ((a2 + a1*300 + a0) - 450)**2 +\n",
    "           ((a2*3 + a1*600 + a0) - 550)**2)\n",
    "MSE"
   ]
  },
  {
   "cell_type": "code",
   "execution_count": 31,
   "metadata": {},
   "outputs": [],
   "source": [
    "MSE_a0 = 12*a2 + 2200*a1 + 6*a0 - 2400\n",
    "MSE_a1 = 28*a2 + 5000*a1 + 12*a0 - 5000\n",
    "MSE_a2 = 5000*a2 + 980000*a1 + 2200*a0 - 1010000"
   ]
  },
  {
   "cell_type": "code",
   "execution_count": 32,
   "metadata": {},
   "outputs": [
    {
     "data": {
      "text/latex": [
       "$\\displaystyle \\left\\{\\left( 220, \\  \\frac{6}{5}, \\  -130\\right)\\right\\}$"
      ],
      "text/plain": [
       "{(220, 6/5, -130)}"
      ]
     },
     "execution_count": 32,
     "metadata": {},
     "output_type": "execute_result"
    }
   ],
   "source": [
    "nonlinsolve([MSE_a0, MSE_a1, MSE_a2], [a0, a1, a2])"
   ]
  },
  {
   "cell_type": "code",
   "execution_count": 33,
   "metadata": {},
   "outputs": [
    {
     "data": {
      "text/latex": [
       "$\\displaystyle 0$"
      ],
      "text/plain": [
       "0"
      ]
     },
     "execution_count": 33,
     "metadata": {},
     "output_type": "execute_result"
    }
   ],
   "source": [
    "MSE.subs({a0: 220, a1: 6/5, a2: -130})"
   ]
  },
  {
   "cell_type": "code",
   "execution_count": 34,
   "metadata": {},
   "outputs": [
    {
     "data": {
      "text/latex": [
       "$\\displaystyle \\frac{6 x_{1}}{5} - 130 x_{2} + 220$"
      ],
      "text/plain": [
       "6*x1/5 - 130*x2 + 220"
      ]
     },
     "execution_count": 34,
     "metadata": {},
     "output_type": "execute_result"
    }
   ],
   "source": [
    "f = x1 * 6/5 + x2 * (-130) + 220\n",
    "f"
   ]
  },
  {
   "cell_type": "code",
   "execution_count": 35,
   "metadata": {},
   "outputs": [
    {
     "data": {
      "text/latex": [
       "$\\displaystyle 499.2$"
      ],
      "text/plain": [
       "499.2000000"
      ]
     },
     "execution_count": 35,
     "metadata": {},
     "output_type": "execute_result"
    }
   ],
   "source": [
    "f.subs({\"x1\": 666, \"x2\": 4}).n(10) #answer 500"
   ]
  },
  {
   "cell_type": "code",
   "execution_count": 36,
   "metadata": {},
   "outputs": [
    {
     "data": {
      "text/latex": [
       "$\\displaystyle 200$"
      ],
      "text/plain": [
       "200"
      ]
     },
     "execution_count": 36,
     "metadata": {},
     "output_type": "execute_result"
    }
   ],
   "source": [
    "f.subs({\"x1\": 200, \"x2\": 2})"
   ]
  },
  {
   "cell_type": "code",
   "execution_count": 37,
   "metadata": {},
   "outputs": [
    {
     "data": {
      "text/latex": [
       "$\\displaystyle 450$"
      ],
      "text/plain": [
       "450"
      ]
     },
     "execution_count": 37,
     "metadata": {},
     "output_type": "execute_result"
    }
   ],
   "source": [
    "f.subs({\"x1\": 300, \"x2\": 1})"
   ]
  },
  {
   "cell_type": "code",
   "execution_count": 39,
   "metadata": {},
   "outputs": [
    {
     "data": {
      "text/latex": [
       "$\\displaystyle 550$"
      ],
      "text/plain": [
       "550"
      ]
     },
     "execution_count": 39,
     "metadata": {},
     "output_type": "execute_result"
    }
   ],
   "source": [
    "f.subs({\"x1\": 600, \"x2\": 3})"
   ]
  }
 ],
 "metadata": {
  "kernelspec": {
   "display_name": ".venv",
   "language": "python",
   "name": "python3"
  },
  "language_info": {
   "codemirror_mode": {
    "name": "ipython",
    "version": 3
   },
   "file_extension": ".py",
   "mimetype": "text/x-python",
   "name": "python",
   "nbconvert_exporter": "python",
   "pygments_lexer": "ipython3",
   "version": "3.11.5"
  }
 },
 "nbformat": 4,
 "nbformat_minor": 2
}
