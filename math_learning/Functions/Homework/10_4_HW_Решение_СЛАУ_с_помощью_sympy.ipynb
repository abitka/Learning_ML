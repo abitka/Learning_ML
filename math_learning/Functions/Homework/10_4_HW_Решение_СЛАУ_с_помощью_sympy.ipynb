{
 "cells": [
  {
   "cell_type": "markdown",
   "metadata": {},
   "source": [
    "1. Решите СЛАУ вручную и проверьте себя с помощью sympy. <br>\n",
    "\n",
    "1.  \n",
    "$$\n",
    "\\begin{cases}\n",
    "-x + 7y = -34 \\\\\n",
    "8x + 8y = -48\n",
    "\\end{cases}\n",
    "$$\n",
    "2. \n",
    "$$\n",
    "\\begin{cases}\n",
    "4x - 7y = -4 \\\\\n",
    "3x - 4y = -3\n",
    "\\end{cases}\n",
    "$$\n",
    "3. \n",
    "$$\n",
    "\\begin{cases}\n",
    "8a - 4b = 64 \\\\\n",
    "-3a + 3b = -21\n",
    "\\end{cases}\n",
    "$$\n",
    "4. \n",
    "$$\n",
    "\\begin{cases}\n",
    "5x_1 + 7x_2 - 5x_3 = -47 \\\\\n",
    "-2x_2 + 2x_3 = 10 \\\\\n",
    "-4x_1 - 8x_2 - 7x_3 = 63\n",
    "\\end{cases}\n",
    "$$\n",
    "\n",
    "2. Умножьте матрицу на вектор и проверьте себя с помощью sympy и задания 1\n",
    "\n",
    "1. \n",
    "$$ \n",
    "\\begin{pmatrix}\n",
    "-1 & 7 \\\\\n",
    "8 & 8\n",
    "\\end{pmatrix}\n",
    "\\begin{pmatrix}\n",
    "-1 \\\\\n",
    "-5\n",
    "\\end{pmatrix}\n",
    "$$\n",
    "2. \n",
    "$$ \n",
    "\\begin{pmatrix}\n",
    "4 & -7 \\\\\n",
    "3 & 4\n",
    "\\end{pmatrix}\n",
    "\\begin{pmatrix}\n",
    "-1 \\\\\n",
    "0\n",
    "\\end{pmatrix}\n",
    "$$\n",
    "3. \n",
    "$$ \n",
    "\\begin{pmatrix}\n",
    "8 & -4 \\\\\n",
    "-3 & 3\n",
    "\\end{pmatrix}\n",
    "\\begin{pmatrix}\n",
    "9 \\\\\n",
    "2\n",
    "\\end{pmatrix}\n",
    "$$\n",
    "4. \n",
    "$$ \n",
    "\\begin{pmatrix}\n",
    "5 & 7 & -5 \\\\\n",
    "0 & -2 & 2 \\\\\n",
    "-4 & -8 & -7\n",
    "\\end{pmatrix}\n",
    "\\begin{pmatrix}\n",
    "-2 \\\\\n",
    "-6 \\\\\n",
    "-1\n",
    "\\end{pmatrix}\n",
    "$$\n",
    "\n",
    "3. Решите переопределенную СЛАУ. Достигните значения MSE < 55.\n",
    "$$\n",
    "\\begin{cases}\n",
    "5x + 7y - 5z = -47 \\\\\n",
    "-2y + 2z = 10 \\\\\n",
    "-4x - 8y - 7z = 63 \\\\\n",
    "x + y + 2z = -1 \\\\\n",
    "2x - y + 2z = -4 \\\\\n",
    "4x + y + 4z = -2\n",
    "\\end{cases}\n",
    "$$\n"
   ]
  },
  {
   "cell_type": "code",
   "execution_count": 1,
   "metadata": {},
   "outputs": [],
   "source": [
    "from sympy import *\n",
    "import numpy as np"
   ]
  },
  {
   "cell_type": "code",
   "execution_count": 2,
   "metadata": {},
   "outputs": [],
   "source": [
    "x, y, z, x1, x2, x3 = symbols(\"x, y, z, x1, x2, x3\")"
   ]
  },
  {
   "cell_type": "code",
   "execution_count": 47,
   "metadata": {},
   "outputs": [
    {
     "name": "stdout",
     "output_type": "stream",
     "text": [
      "result 1:\n",
      "x = -1\n",
      "y = -5\n",
      "check result:\n",
      "eq_1 = -34 | valid = True\n",
      "eq_2 = -48 | valid = True\n"
     ]
    }
   ],
   "source": [
    "# 1\n",
    "eq_1 = -x + 7*y\n",
    "eq_2 = 8*x + 8*y\n",
    "\n",
    "M_1 = Matrix([[-1, 7, -34], [8, 8, -48]])\n",
    "m_1 = [x, y]\n",
    "\n",
    "result = list(linsolve(M_1, m_1))\n",
    "print(f\"result 1:\\nx = {result[0][0]}\\ny = {result[0][1]}\")\n",
    "\n",
    "res_eq_1 = eq_1.subs({\"x\": result[0][0], \"y\": result[0][1]})\n",
    "res_eq_2 = eq_2.subs({\"x\": result[0][0], \"y\": result[0][1]})\n",
    "\n",
    "print(f\"check result:\\n\"\n",
    "      f\"eq_1 = {res_eq_1} | valid = {res_eq_1 == M_1[2]}\\n\"\n",
    "      f\"eq_2 = {res_eq_2} | valid = {res_eq_2 == M_1[5]}\")\n"
   ]
  },
  {
   "cell_type": "code",
   "execution_count": 48,
   "metadata": {},
   "outputs": [
    {
     "name": "stdout",
     "output_type": "stream",
     "text": [
      "result 2:\n",
      "x = -1\n",
      "y = 0\n",
      "check result:\n",
      "eq_1 = -4 | valid = True\n",
      "eq_2 = -3 | valid = True\n"
     ]
    }
   ],
   "source": [
    "# 2\n",
    "eq_1 = 4*x - 7*y\n",
    "eq_2 = 3*x - 4*y\n",
    "\n",
    "M_1 = Matrix([[4, -7, -4], [3, -4, -3]])\n",
    "m_1 = [x, y]\n",
    "\n",
    "result = list(linsolve(M_1, m_1))\n",
    "print(f\"result 2:\\nx = {result[0][0]}\\ny = {result[0][1]}\")\n",
    "\n",
    "res_eq_1 = eq_1.subs({\"x\": result[0][0], \"y\": result[0][1]})\n",
    "res_eq_2 = eq_2.subs({\"x\": result[0][0], \"y\": result[0][1]})\n",
    "\n",
    "print(f\"check result:\\n\"\n",
    "      f\"eq_1 = {res_eq_1} | valid = {res_eq_1 == M_1[2]}\\n\"\n",
    "      f\"eq_2 = {res_eq_2} | valid = {res_eq_2 == M_1[5]}\")"
   ]
  },
  {
   "cell_type": "code",
   "execution_count": 51,
   "metadata": {},
   "outputs": [
    {
     "name": "stdout",
     "output_type": "stream",
     "text": [
      "result 3:\n",
      "x = 9\n",
      "y = 2\n",
      "check result:\n",
      "eq_1 = 64 | valid = True\n",
      "eq_2 = -21 | valid = True\n"
     ]
    }
   ],
   "source": [
    "# 3\n",
    "eq_1 = 8*x - 4*y\n",
    "eq_2 = -3*x + 3*y\n",
    "\n",
    "M_1 = Matrix([[8, -4, 64], [-3, 3, -21]])\n",
    "m_1 = [x, y]\n",
    "\n",
    "result = list(linsolve(M_1, m_1))\n",
    "print(f\"result 3:\\nx = {result[0][0]}\\ny = {result[0][1]}\")\n",
    "\n",
    "res_eq_1 = eq_1.subs({\"x\": result[0][0], \"y\": result[0][1]})\n",
    "res_eq_2 = eq_2.subs({\"x\": result[0][0], \"y\": result[0][1]})\n",
    "\n",
    "print(f\"check result:\\n\"\n",
    "      f\"eq_1 = {res_eq_1} | valid = {res_eq_1 == M_1[2]}\\n\"\n",
    "      f\"eq_2 = {res_eq_2} | valid = {res_eq_2 == M_1[5]}\")"
   ]
  },
  {
   "cell_type": "code",
   "execution_count": 55,
   "metadata": {},
   "outputs": [
    {
     "name": "stdout",
     "output_type": "stream",
     "text": [
      "result 4:\n",
      "x1 = -2\n",
      "x2 = -6\n",
      "x3 = -1\n",
      "check result:\n",
      "eq_1 = -47 | valid = True\n",
      "eq_2 = 10 | valid = True\n",
      "eq_3 = 63 | valid = True\n"
     ]
    }
   ],
   "source": [
    "# 4\n",
    "eq_1 = 5*x1 + 7*x2 - 5*x3\n",
    "eq_2 = -2*x2 + 2*x3\n",
    "eq_3 = -4*x1 - 8*x2 - 7*x3\n",
    "\n",
    "M_1 = Matrix([[5, 7, -5, -47], [0, -2, 2, 10], [-4, -8, -7, 63]])\n",
    "m_1 = [x1, x2, x3]\n",
    "\n",
    "result = list(linsolve(M_1, m_1))\n",
    "print(f\"result 4:\\n\"\n",
    "      f\"x1 = {result[0][0]}\\n\"\n",
    "      f\"x2 = {result[0][1]}\\n\"\n",
    "      f\"x3 = {result[0][2]}\")\n",
    "\n",
    "res_eq_1 = eq_1.subs({\"x1\": result[0][0], \"x2\": result[0][1], \"x3\": result[0][2]})\n",
    "res_eq_2 = eq_2.subs({\"x2\": result[0][1], \"x3\": result[0][2]})\n",
    "res_eq_3 = eq_3.subs({\"x1\": result[0][0], \"x2\": result[0][1], \"x3\": result[0][2]})\n",
    "\n",
    "print(f\"check result:\\n\"\n",
    "      f\"eq_1 = {res_eq_1} | valid = {res_eq_1 == M_1[3]}\\n\"\n",
    "      f\"eq_2 = {res_eq_2} | valid = {res_eq_2 == M_1[7]}\\n\"\n",
    "      f\"eq_3 = {res_eq_3} | valid = {res_eq_3 == M_1[11]}\")"
   ]
  },
  {
   "cell_type": "code",
   "execution_count": 60,
   "metadata": {},
   "outputs": [
    {
     "data": {
      "text/latex": [
       "$\\displaystyle \\left[\\begin{matrix}-34\\\\-48\\end{matrix}\\right]$"
      ],
      "text/plain": [
       "Matrix([\n",
       "[-34],\n",
       "[-48]])"
      ]
     },
     "execution_count": 60,
     "metadata": {},
     "output_type": "execute_result"
    }
   ],
   "source": [
    "# 1\n",
    "M_1 = Matrix([[-1, 7], [8, 8]])\n",
    "m_1 = Matrix([-1, -5])\n",
    "M_1 * m_1"
   ]
  },
  {
   "cell_type": "code",
   "execution_count": 61,
   "metadata": {},
   "outputs": [
    {
     "data": {
      "text/latex": [
       "$\\displaystyle \\left[\\begin{matrix}-4\\\\-3\\end{matrix}\\right]$"
      ],
      "text/plain": [
       "Matrix([\n",
       "[-4],\n",
       "[-3]])"
      ]
     },
     "execution_count": 61,
     "metadata": {},
     "output_type": "execute_result"
    }
   ],
   "source": [
    "# 2\n",
    "M_1 = Matrix([[4, -7], [3, 4]])\n",
    "m_1 = Matrix([-1, 0])\n",
    "M_1 * m_1"
   ]
  },
  {
   "cell_type": "code",
   "execution_count": 62,
   "metadata": {},
   "outputs": [
    {
     "data": {
      "text/latex": [
       "$\\displaystyle \\left[\\begin{matrix}64\\\\-21\\end{matrix}\\right]$"
      ],
      "text/plain": [
       "Matrix([\n",
       "[ 64],\n",
       "[-21]])"
      ]
     },
     "execution_count": 62,
     "metadata": {},
     "output_type": "execute_result"
    }
   ],
   "source": [
    "# 3\n",
    "M_1 = Matrix([[8, -4], [-3, 3]])\n",
    "m_1 = Matrix([9, 2])\n",
    "M_1 * m_1"
   ]
  },
  {
   "cell_type": "code",
   "execution_count": 63,
   "metadata": {},
   "outputs": [
    {
     "data": {
      "text/latex": [
       "$\\displaystyle \\left[\\begin{matrix}-47\\\\10\\\\63\\end{matrix}\\right]$"
      ],
      "text/plain": [
       "Matrix([\n",
       "[-47],\n",
       "[ 10],\n",
       "[ 63]])"
      ]
     },
     "execution_count": 63,
     "metadata": {},
     "output_type": "execute_result"
    }
   ],
   "source": [
    "# 4\n",
    "M_1 = Matrix([[5, 7, -5], [0, -2, 2], [-4, -8, -7]])\n",
    "m_1 = Matrix([-2, -6, -1])\n",
    "M_1 * m_1"
   ]
  },
  {
   "cell_type": "code",
   "execution_count": 94,
   "metadata": {},
   "outputs": [
    {
     "data": {
      "text/latex": [
       "$\\displaystyle 1049.83333333333$"
      ],
      "text/plain": [
       "1049.83333333333"
      ]
     },
     "execution_count": 94,
     "metadata": {},
     "output_type": "execute_result"
    }
   ],
   "source": [
    "# 3. MSE < 55\n",
    "a1, a2, a3 = symbols(\"a1, a2, a3\")\n",
    "\n",
    "M = Matrix([[5, 7, -5, -47],\n",
    "           [0, -2, 2, 10],\n",
    "           [-4, -8, -7, 63],\n",
    "           [1, 1, 2, -1],\n",
    "           [2, -1, 2, -4],\n",
    "           [4, 1, 4, -2]])\n",
    "\n",
    "eq_1 = 5*x + 7*y - 5*z\n",
    "eq_2 = -2*y + 2*z\n",
    "eq_3 = -4*x - 8*y - 7*z\n",
    "eq_4 = x + y + 2*z\n",
    "eq_5 = 2*x - y + 2*z\n",
    "eq_6 = 4*x + y + 4*z\n",
    "\n",
    "MSE = 1/6 * ((5*a1 + 7*a2 - 5*a3 + 47)**2 +\n",
    "             (-2*a2 + 2*a3 - 10)**2 +\n",
    "             (-4*a1 - 8*a2 - 7*a3 - 63)**2 +\n",
    "             (a1 + a2 + 2*a3 + 1)**2 +\n",
    "             (2*a1 - a2 + 2*a3 + 4)**2 +\n",
    "             (4*a1 + a2 + 4*a3 + 2)**2)\n",
    "\n",
    "MSE_res = MSE.subs({a1: 0, a2: 0, a3: 0})\n",
    "MSE_res"
   ]
  },
  {
   "cell_type": "code",
   "execution_count": 95,
   "metadata": {},
   "outputs": [],
   "source": [
    "MSE_a1 = diff(MSE, a1)\n",
    "MSE_a2 = diff(MSE, a2)\n",
    "MSE_a3 = diff(MSE, a3)\n",
    "\n",
    "step = 0.01"
   ]
  },
  {
   "cell_type": "code",
   "execution_count": 96,
   "metadata": {},
   "outputs": [
    {
     "data": {
      "text/plain": [
       "array([168.000000000000, 284.000000000000, 68.0000000000000], dtype=object)"
      ]
     },
     "execution_count": 96,
     "metadata": {},
     "output_type": "execute_result"
    }
   ],
   "source": [
    "startPoint = np.array([0, 0, 0])\n",
    "\n",
    "grad = np.array([\n",
    "    MSE_a1.subs({a1: startPoint[0], a2: startPoint[1], a3: startPoint[2]}), \n",
    "    MSE_a2.subs({a1: startPoint[0], a2: startPoint[1], a3: startPoint[2]}), \n",
    "    MSE_a3.subs({a1: startPoint[0], a2: startPoint[1], a3: startPoint[2]})])\n",
    "\n",
    "grad    "
   ]
  },
  {
   "cell_type": "code",
   "execution_count": 97,
   "metadata": {},
   "outputs": [
    {
     "data": {
      "text/plain": [
       "array([-1.68000000000000, -2.84000000000000, -0.680000000000000],\n",
       "      dtype=object)"
      ]
     },
     "execution_count": 97,
     "metadata": {},
     "output_type": "execute_result"
    }
   ],
   "source": [
    "nextPoint = startPoint - step * grad\n",
    "nextPoint"
   ]
  },
  {
   "cell_type": "code",
   "execution_count": 98,
   "metadata": {},
   "outputs": [
    {
     "data": {
      "text/latex": [
       "$\\displaystyle 247.497333333333$"
      ],
      "text/plain": [
       "247.497333333333"
      ]
     },
     "execution_count": 98,
     "metadata": {},
     "output_type": "execute_result"
    }
   ],
   "source": [
    "MSE.subs({a1: nextPoint[0], a2: nextPoint[1], a3: nextPoint[2]})"
   ]
  },
  {
   "cell_type": "code",
   "execution_count": 99,
   "metadata": {},
   "outputs": [
    {
     "name": "stdout",
     "output_type": "stream",
     "text": [
      "MSE = 54.0837013566206\n"
     ]
    }
   ],
   "source": [
    "while (MSE_res > 55):\n",
    "    nextPoint = nextPoint - step * grad\n",
    "\n",
    "    grad = np.array([\n",
    "    MSE_a1.subs({a1: nextPoint[0], a2: nextPoint[1], a3: nextPoint[2]}), \n",
    "    MSE_a2.subs({a1: nextPoint[0], a2: nextPoint[1], a3: nextPoint[2]}), \n",
    "    MSE_a3.subs({a1: nextPoint[0], a2: nextPoint[1], a3: nextPoint[2]})])\n",
    "\n",
    "    MSE_res = MSE.subs({a1: nextPoint[0], a2: nextPoint[1], a3: nextPoint[2]})\n",
    "\n",
    "print(f\"MSE = {MSE_res}\")    "
   ]
  }
 ],
 "metadata": {
  "kernelspec": {
   "display_name": ".venv",
   "language": "python",
   "name": "python3"
  },
  "language_info": {
   "codemirror_mode": {
    "name": "ipython",
    "version": 3
   },
   "file_extension": ".py",
   "mimetype": "text/x-python",
   "name": "python",
   "nbconvert_exporter": "python",
   "pygments_lexer": "ipython3",
   "version": "3.11.5"
  }
 },
 "nbformat": 4,
 "nbformat_minor": 2
}
