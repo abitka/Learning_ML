{
 "cells": [
  {
   "cell_type": "markdown",
   "metadata": {},
   "source": [
    "1. Найдите частные производные данных функций. Постройте графики этих производных, а также найдите их нули: <br>\n",
    "a. $f(x, y) = x(y - 5)^2$ <br>\n",
    "b. $f(x, y) = (y - \\dfrac{e}{20})^2\\sin(\\pi x)$ <br>\n",
    "c. $f(x, y) = x\\sin(x)\\sin(y - 2)$ <br>\n",
    "<br>\n",
    "2. Найдите наилучшую, с точки зрения среднеквадратичной ошибки, функцию, приближающую зависимость времени разгона автомобиля до 100 км/ч от его массы и мощности двигателя. <br>\n",
    "Данные для аппроксимации в таблице ниже: <br>\n",
    "\n",
    "| масса, кг | мощность двигателя, лс. | время разгона, с |\n",
    "|-----------|-------------------------|------------------|\n",
    "| 1945      | 560                     | 4.3              |\n",
    "| 1495      | 340                     | 4.9              |\n",
    "| 1570      | 343                     | 5.2              |\n",
    "| 1520      | 431                     | ?                |\n",
    "\n",
    "<br>\n",
    "Выпишите MSE, найдите его частные производные, затем с помощью sympy найдите точку минимума и предскажите времени разгона до 100 км/ч автомобиля массой 1520 кг и с максимальной мощностью двигателя равной 431 лс.\n"
   ]
  },
  {
   "cell_type": "code",
   "execution_count": 1,
   "metadata": {},
   "outputs": [],
   "source": [
    "from sympy import *"
   ]
  },
  {
   "cell_type": "code",
   "execution_count": 2,
   "metadata": {},
   "outputs": [],
   "source": [
    "x, y, x1, x2, a2, a1, a0 = symbols(\"x, y, x1, x2, a2, a1, a0\")"
   ]
  },
  {
   "cell_type": "markdown",
   "metadata": {},
   "source": [
    "1."
   ]
  },
  {
   "cell_type": "code",
   "execution_count": 3,
   "metadata": {},
   "outputs": [
    {
     "data": {
      "text/latex": [
       "$\\displaystyle x \\left(y - 5\\right)^{2}$"
      ],
      "text/plain": [
       "x*(y - 5)**2"
      ]
     },
     "execution_count": 3,
     "metadata": {},
     "output_type": "execute_result"
    }
   ],
   "source": [
    "# a. f(x, y) = x*(y - 5)**2\n",
    "f_a = x*(y - 5)**2\n",
    "f_a"
   ]
  },
  {
   "cell_type": "code",
   "execution_count": 11,
   "metadata": {},
   "outputs": [
    {
     "data": {
      "text/latex": [
       "$\\displaystyle \\left(y - 5\\right)^{2}$"
      ],
      "text/plain": [
       "(y - 5)**2"
      ]
     },
     "execution_count": 11,
     "metadata": {},
     "output_type": "execute_result"
    }
   ],
   "source": [
    "diff(f_a, x)"
   ]
  },
  {
   "cell_type": "code",
   "execution_count": 12,
   "metadata": {},
   "outputs": [
    {
     "data": {
      "text/latex": [
       "$\\displaystyle x \\left(2 y - 10\\right)$"
      ],
      "text/plain": [
       "x*(2*y - 10)"
      ]
     },
     "execution_count": 12,
     "metadata": {},
     "output_type": "execute_result"
    }
   ],
   "source": [
    "diff(f_a, y)"
   ]
  },
  {
   "cell_type": "code",
   "execution_count": 6,
   "metadata": {},
   "outputs": [
    {
     "data": {
      "text/latex": [
       "$\\displaystyle \\left(y - \\frac{e}{20}\\right)^{2} \\sin{\\left(\\pi x \\right)}$"
      ],
      "text/plain": [
       "(y - E/20)**2*sin(pi*x)"
      ]
     },
     "execution_count": 6,
     "metadata": {},
     "output_type": "execute_result"
    }
   ],
   "source": [
    "# # b. f(x, y) = (y - E/20)**2 * sin(pi * x)\n",
    "f_b = (y - E/20)**2 * sin(pi * x)\n",
    "f_b"
   ]
  },
  {
   "cell_type": "code",
   "execution_count": 15,
   "metadata": {},
   "outputs": [
    {
     "data": {
      "text/latex": [
       "$\\displaystyle \\pi \\left(y - \\frac{e}{20}\\right)^{2} \\cos{\\left(\\pi x \\right)}$"
      ],
      "text/plain": [
       "pi*(y - E/20)**2*cos(pi*x)"
      ]
     },
     "execution_count": 15,
     "metadata": {},
     "output_type": "execute_result"
    }
   ],
   "source": [
    "diff(f_b, x)"
   ]
  },
  {
   "cell_type": "code",
   "execution_count": 14,
   "metadata": {},
   "outputs": [
    {
     "data": {
      "text/latex": [
       "$\\displaystyle \\left(2 y - \\frac{e}{10}\\right) \\sin{\\left(\\pi x \\right)}$"
      ],
      "text/plain": [
       "(2*y - E/10)*sin(pi*x)"
      ]
     },
     "execution_count": 14,
     "metadata": {},
     "output_type": "execute_result"
    }
   ],
   "source": [
    "diff(f_b, y)"
   ]
  },
  {
   "cell_type": "code",
   "execution_count": 8,
   "metadata": {},
   "outputs": [
    {
     "data": {
      "text/latex": [
       "$\\displaystyle x \\sin{\\left(x \\right)} \\sin{\\left(y - 2 \\right)}$"
      ],
      "text/plain": [
       "x*sin(x)*sin(y - 2)"
      ]
     },
     "execution_count": 8,
     "metadata": {},
     "output_type": "execute_result"
    }
   ],
   "source": [
    "# c. f(x, y) = x*sin(x)*sin(y - 2)\n",
    "f_c = x*sin(x)*sin(y - 2)\n",
    "f_c"
   ]
  },
  {
   "cell_type": "code",
   "execution_count": 17,
   "metadata": {},
   "outputs": [
    {
     "data": {
      "text/latex": [
       "$\\displaystyle x \\sin{\\left(y - 2 \\right)} \\cos{\\left(x \\right)} + \\sin{\\left(x \\right)} \\sin{\\left(y - 2 \\right)}$"
      ],
      "text/plain": [
       "x*sin(y - 2)*cos(x) + sin(x)*sin(y - 2)"
      ]
     },
     "execution_count": 17,
     "metadata": {},
     "output_type": "execute_result"
    }
   ],
   "source": [
    "diff(f_c, x)"
   ]
  },
  {
   "cell_type": "code",
   "execution_count": 18,
   "metadata": {},
   "outputs": [
    {
     "data": {
      "text/latex": [
       "$\\displaystyle x \\sin{\\left(x \\right)} \\cos{\\left(y - 2 \\right)}$"
      ],
      "text/plain": [
       "x*sin(x)*cos(y - 2)"
      ]
     },
     "execution_count": 18,
     "metadata": {},
     "output_type": "execute_result"
    }
   ],
   "source": [
    "diff(f_c, y)"
   ]
  },
  {
   "cell_type": "markdown",
   "metadata": {},
   "source": [
    "2."
   ]
  },
  {
   "cell_type": "code",
   "execution_count": 140,
   "metadata": {},
   "outputs": [],
   "source": [
    "# MSE = 1/3 * (((a2*1945 + a1*560 + a0) - 4.3)**2 +\n",
    "#              ((a2*1495 + a1*340 + a0) - 4.9)**2 +\n",
    "#              ((a2*1570 + a1*343 + a0) - 5.2)**2)\n",
    "\n",
    "# 2\n",
    "MSE = 1/3 * (((a2*560 + a1*1945 + a0) - 4.3)**2 +\n",
    "             ((a2*340 + a1*1495 + a0) - 4.9)**2 +\n",
    "             ((a2*343 + a1*1570 + a0) - 5.2)**2)"
   ]
  },
  {
   "cell_type": "code",
   "execution_count": 141,
   "metadata": {},
   "outputs": [
    {
     "data": {
      "text/latex": [
       "$\\displaystyle 828.666666666667 a_{0} + 1424006.66666667 a_{1} + 364566.0 a_{2} - 3905.06666666667$"
      ],
      "text/plain": [
       "828.666666666667*a0 + 1424006.66666667*a1 + 364566.0*a2 - 3905.06666666667"
      ]
     },
     "execution_count": 141,
     "metadata": {},
     "output_type": "execute_result"
    }
   ],
   "source": [
    "MSE_a2 = diff(MSE, a2)\n",
    "MSE_a2"
   ]
  },
  {
   "cell_type": "code",
   "execution_count": 142,
   "metadata": {},
   "outputs": [
    {
     "data": {
      "text/latex": [
       "$\\displaystyle 3340.0 a_{0} + 5655300.0 a_{1} + 1424006.66666667 a_{2} - 15902.0$"
      ],
      "text/plain": [
       "3340.0*a0 + 5655300.0*a1 + 1424006.66666667*a2 - 15902.0"
      ]
     },
     "execution_count": 142,
     "metadata": {},
     "output_type": "execute_result"
    }
   ],
   "source": [
    "MSE_a1 = diff(MSE, a1)\n",
    "MSE_a1"
   ]
  },
  {
   "cell_type": "code",
   "execution_count": 143,
   "metadata": {},
   "outputs": [
    {
     "data": {
      "text/latex": [
       "$\\displaystyle 2.0 a_{0} + 3340.0 a_{1} + 828.666666666667 a_{2} - 9.6$"
      ],
      "text/plain": [
       "2.0*a0 + 3340.0*a1 + 828.666666666667*a2 - 9.6"
      ]
     },
     "execution_count": 143,
     "metadata": {},
     "output_type": "execute_result"
    }
   ],
   "source": [
    "MSE_a0 = diff(MSE, a0)\n",
    "MSE_a0"
   ]
  },
  {
   "cell_type": "code",
   "execution_count": 144,
   "metadata": {},
   "outputs": [
    {
     "data": {
      "text/plain": [
       "[(-0.0118811881188827, 0.00447524752478956, 2.24910891085849)]"
      ]
     },
     "execution_count": 144,
     "metadata": {},
     "output_type": "execute_result"
    }
   ],
   "source": [
    "res = nonlinsolve([MSE_a2, MSE_a1, MSE_a0], [a2, a1, a0])\n",
    "res = list(res)\n",
    "res"
   ]
  },
  {
   "cell_type": "code",
   "execution_count": 145,
   "metadata": {},
   "outputs": [
    {
     "name": "stdout",
     "output_type": "stream",
     "text": [
      "a2: -0.0118811881188827\n",
      "a1: 0.00447524752478956\n",
      "a0: 2.24910891085849\n"
     ]
    }
   ],
   "source": [
    "print(f\"a2: {res[0][0]}\")\n",
    "print(f\"a1: {res[0][1]}\")\n",
    "print(f\"a0: {res[0][2]}\")"
   ]
  },
  {
   "cell_type": "code",
   "execution_count": 146,
   "metadata": {},
   "outputs": [
    {
     "data": {
      "text/latex": [
       "$\\displaystyle 0.00447524752478956 x_{1} - 0.0118811881188827 x_{2} + 2.24910891085849$"
      ],
      "text/plain": [
       "0.00447524752478956*x1 - 0.0118811881188827*x2 + 2.24910891085849"
      ]
     },
     "execution_count": 146,
     "metadata": {},
     "output_type": "execute_result"
    }
   ],
   "source": [
    "f = x2 * res[0][0] + x1 * res[0][1] + res[0][2]\n",
    "f          "
   ]
  },
  {
   "cell_type": "code",
   "execution_count": 147,
   "metadata": {},
   "outputs": [
    {
     "data": {
      "text/latex": [
       "$\\displaystyle 4.29999999999989$"
      ],
      "text/plain": [
       "4.29999999999989"
      ]
     },
     "execution_count": 147,
     "metadata": {},
     "output_type": "execute_result"
    }
   ],
   "source": [
    "# f.subs({\"x2\": 1945, \"x1\": 560})\n",
    "\n",
    "# 2\n",
    "f.subs({\"x2\": 560, \"x1\": 1945})"
   ]
  },
  {
   "cell_type": "code",
   "execution_count": 148,
   "metadata": {},
   "outputs": [
    {
     "data": {
      "text/latex": [
       "$\\displaystyle 4.89999999999877$"
      ],
      "text/plain": [
       "4.89999999999877"
      ]
     },
     "execution_count": 148,
     "metadata": {},
     "output_type": "execute_result"
    }
   ],
   "source": [
    "# f.subs({\"x2\": 1495, \"x1\": 340})\n",
    "\n",
    "# 2\n",
    "f.subs({\"x2\": 340, \"x1\": 1495})"
   ]
  },
  {
   "cell_type": "code",
   "execution_count": 149,
   "metadata": {},
   "outputs": [
    {
     "data": {
      "text/latex": [
       "$\\displaystyle 5.20000000000134$"
      ],
      "text/plain": [
       "5.20000000000134"
      ]
     },
     "execution_count": 149,
     "metadata": {},
     "output_type": "execute_result"
    }
   ],
   "source": [
    "# f.subs({\"x2\": 1570, \"x1\": 343})\n",
    "\n",
    "# 2\n",
    "f.subs({\"x2\": 343, \"x1\": 1570})"
   ]
  },
  {
   "cell_type": "code",
   "execution_count": 150,
   "metadata": {},
   "outputs": [
    {
     "data": {
      "text/latex": [
       "$\\displaystyle 3.93069306930019$"
      ],
      "text/plain": [
       "3.93069306930019"
      ]
     },
     "execution_count": 150,
     "metadata": {},
     "output_type": "execute_result"
    }
   ],
   "source": [
    "# f.subs({\"x2\": 1520, \"x1\": 431})\n",
    "\n",
    "# 2\n",
    "f.subs({\"x2\": 431, \"x1\": 1520})"
   ]
  }
 ],
 "metadata": {
  "kernelspec": {
   "display_name": ".venv",
   "language": "python",
   "name": "python3"
  },
  "language_info": {
   "codemirror_mode": {
    "name": "ipython",
    "version": 3
   },
   "file_extension": ".py",
   "mimetype": "text/x-python",
   "name": "python",
   "nbconvert_exporter": "python",
   "pygments_lexer": "ipython3",
   "version": "3.11.5"
  }
 },
 "nbformat": 4,
 "nbformat_minor": 2
}
