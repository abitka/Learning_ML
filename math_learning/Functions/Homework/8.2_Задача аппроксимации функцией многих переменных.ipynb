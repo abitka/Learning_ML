{
 "cells": [
  {
   "cell_type": "markdown",
   "metadata": {},
   "source": [
    "Какая из функций имеет меньшее значение среднеквадратичной ошибки на данных объектах: <br>\n",
    "1. Объекты: (10, 30), (-5, 15), (16, 31). <br>\n",
    "Целевые значения: 7, 20, -4. <br>\n",
    "Функции-кандидаты: $f1=-2x_2+x_1-7$; $f2=20x_2+3x_1-4$; <br>\n",
    "<br>\n",
    "2. Объекты: (16, 17), (-3, 28), (14, 85). <br>\n",
    "Целевые значения: 13, 42, -39. <br>\n",
    "Функции-кандидаты: $f1=-2x_2-x_1+60$; $f2=2x_2+17x_1-9$; <br>\n",
    "<br>\n",
    "3. Объекты: (7, 39), (12, 48), (3, 55). <br>\n",
    "Целевые значения: -60, 17, 83. <br>\n",
    "Функции-кандидаты: $f1=-4x_2+7x_1-11$; $f2=-0.5x_2+9x_1-400$; <br>\n"
   ]
  },
  {
   "cell_type": "code",
   "execution_count": 1,
   "metadata": {},
   "outputs": [],
   "source": [
    "from sympy import *"
   ]
  },
  {
   "cell_type": "code",
   "execution_count": 2,
   "metadata": {},
   "outputs": [],
   "source": [
    "a2, a1, a0 = symbols(\"a2, a1, a0\")"
   ]
  },
  {
   "cell_type": "code",
   "execution_count": 11,
   "metadata": {},
   "outputs": [
    {
     "name": "stdout",
     "output_type": "stream",
     "text": [
      "MSE_f1 = 3447.00000000000\n",
      "MSE_f2 = 299168.666666667\n"
     ]
    }
   ],
   "source": [
    "\"\"\"\n",
    "(10, 30), (-5, 15), (16, 31)\n",
    "7, 20, -4\n",
    "f1 = -2*x_2 + x_1 - 7\n",
    "f2 = 20*x_2 + 3*x_1 - 4\n",
    "\"\"\"\n",
    "# MSE_1 = 1/3*(((a2*10 + a1*30 + a0) - 7)**2 + \n",
    "#              ((a2*(-5) + a1*15 + a0) - 20)**2 + \n",
    "#              ((a2*16 + a1*31 + a0) - (-4))**2)\n",
    "MSE_1 = 1/3*(((a2*30 + a1*10 + a0) - 7)**2 + \n",
    "             ((a2*15 + a1*(-5) + a0) - 20)**2 + \n",
    "             ((a2*31 + a1*16 + a0) - (-4))**2)\n",
    "\n",
    "print(f\"MSE_f1 = {MSE_1.subs({a2: -2, a1: 1, a0: -7})}\")\n",
    "print(f\"MSE_f2 = {MSE_1.subs({a2: 20, a1: 3, a0: -4})}\")"
   ]
  },
  {
   "cell_type": "code",
   "execution_count": 10,
   "metadata": {},
   "outputs": [
    {
     "name": "stdout",
     "output_type": "stream",
     "text": [
      "MSE_f1 = 2819.66666666667\n",
      "MSE_f2 = 91538.6666666667\n"
     ]
    }
   ],
   "source": [
    "\"\"\"\n",
    "(16, 17), (-3, 28), (14, 85)\n",
    "13, 42, -39\n",
    "f1 = -2*x_2 - x_1 + 60\n",
    "f2 = 2*x_2 + 17*x_1 - 9\n",
    "\"\"\"\n",
    "# MSE_2 = 1/3*(((a2*16 + a1*17 + a0) - 13)**2 + \n",
    "#              ((a2*(-3) + a1*28 + a0) - 42)**2 + \n",
    "#              ((a2*14 + a1*85 + a0) - (-39))**2)\n",
    "MSE_2 = 1/3*(((a2*17 + a1*16 + a0) - 13)**2 + \n",
    "             ((a2*28 + a1*(-3) + a0) - 42)**2 + \n",
    "             ((a2*85 + a1*14 + a0) - (-39))**2)\n",
    "\n",
    "print(f\"MSE_f1 = {MSE_2.subs({a2: -2, a1: -1, a0: 60})}\")\n",
    "print(f\"MSE_f2 = {MSE_2.subs({a2: 2, a1: 17, a0: -9})}\")"
   ]
  },
  {
   "cell_type": "code",
   "execution_count": null,
   "metadata": {},
   "outputs": [],
   "source": []
  },
  {
   "cell_type": "code",
   "execution_count": 9,
   "metadata": {},
   "outputs": [
    {
     "name": "stdout",
     "output_type": "stream",
     "text": [
      "MSE_f1 = 35903.0000000000\n",
      "MSE_f2 = 144191.166666667\n"
     ]
    }
   ],
   "source": [
    "\"\"\"\n",
    "(7, 39), (12, 48), (3, 55)\n",
    "-60, 17, 83\n",
    "f1 = -4*x_2 + 7*x_1 - 11\n",
    "f2 = -0.5*x_2 + 9*x_1 - 400\n",
    "\"\"\"\n",
    "# MSE_3 = 1/3*(((a2*7 + a1*39 + a0) - (-60))**2 + \n",
    "#              ((a2*12 + a1*48 + a0) - 17)**2 + \n",
    "#              ((a2*3 + a1*55 + a0) - 83)**2)\n",
    "MSE_3 = 1/3*(((a2*39 + a1*7 + a0) - (-60))**2 + \n",
    "             ((a2*48 + a1*12 + a0) - 17)**2 + \n",
    "             ((a2*55 + a1*3 + a0) - 83)**2)\n",
    "\n",
    "print(f\"MSE_f1 = {MSE_3.subs({a2: -4, a1: 7, a0: -11})}\")\n",
    "print(f\"MSE_f2 = {MSE_3.subs({a2: -0.5, a1: 9, a0: -400})}\")"
   ]
  },
  {
   "cell_type": "code",
   "execution_count": null,
   "metadata": {},
   "outputs": [],
   "source": []
  }
 ],
 "metadata": {
  "kernelspec": {
   "display_name": ".venv",
   "language": "python",
   "name": "python3"
  },
  "language_info": {
   "codemirror_mode": {
    "name": "ipython",
    "version": 3
   },
   "file_extension": ".py",
   "mimetype": "text/x-python",
   "name": "python",
   "nbconvert_exporter": "python",
   "pygments_lexer": "ipython3",
   "version": "3.11.5"
  }
 },
 "nbformat": 4,
 "nbformat_minor": 2
}
