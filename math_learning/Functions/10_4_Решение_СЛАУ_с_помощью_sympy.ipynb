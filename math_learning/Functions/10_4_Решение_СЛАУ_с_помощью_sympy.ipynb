{
  "cells": [
    {
      "cell_type": "code",
      "execution_count": 2,
      "metadata": {
        "id": "3GrT5NRm5yBM"
      },
      "outputs": [],
      "source": [
        "from sympy import *\n",
        "import numpy"
      ]
    },
    {
      "cell_type": "code",
      "execution_count": 3,
      "metadata": {
        "id": "sZsdZ1qe5yBa"
      },
      "outputs": [],
      "source": [
        "a1, a2 = symbols('a1, a2')\n",
        "\n",
        "eq1 = 4.1 * a1 + 3.9 * a2 - 4\n",
        "eq2 = 4.7 * a1 + 4.2 * a2 - 4.3"
      ]
    },
    {
      "cell_type": "code",
      "execution_count": 4,
      "metadata": {
        "id": "zxqxtSwE5yBk",
        "outputId": "37ea73bb-725b-491f-916a-b87fdc8949f0"
      },
      "outputs": [
        {
          "data": {
            "text/latex": [
              "$\\displaystyle \\left\\{\\left( -0.027027027027027, \\  1.05405405405405\\right)\\right\\}$"
            ],
            "text/plain": [
              "{(-0.027027027027027, 1.05405405405405)}"
            ]
          },
          "execution_count": 4,
          "metadata": {},
          "output_type": "execute_result"
        }
      ],
      "source": [
        "# решение системы НЕ линейных уравнений\n",
        "nonlinsolve([eq1, eq2], [a1, a2])"
      ]
    },
    {
      "cell_type": "code",
      "execution_count": 5,
      "metadata": {
        "id": "huvQmkVD5yBx",
        "outputId": "295f1d53-83e8-4892-b8ab-64a163c5bf11"
      },
      "outputs": [
        {
          "data": {
            "text/plain": [
              "-0.023170731707317014"
            ]
          },
          "execution_count": 5,
          "metadata": {},
          "output_type": "execute_result"
        }
      ],
      "source": [
        "(4 - 3.9 * 1.05) / 4.1"
      ]
    },
    {
      "cell_type": "code",
      "execution_count": 6,
      "metadata": {
        "id": "cP1955W75yB6",
        "outputId": "f76fadaf-7b0b-4e26-f4c5-380f64053973"
      },
      "outputs": [
        {
          "data": {
            "text/latex": [
              "$\\displaystyle \\left\\{\\left( -0.0270270270270284, \\  1.05405405405406\\right)\\right\\}$"
            ],
            "text/plain": [
              "{(-0.0270270270270284, 1.05405405405406)}"
            ]
          },
          "execution_count": 6,
          "metadata": {},
          "output_type": "execute_result"
        }
      ],
      "source": [
        "# решение системы линейных уравнений(СЛАУ)\n",
        "linsolve([eq1, eq2], [a1, a2])"
      ]
    },
    {
      "cell_type": "code",
      "execution_count": 7,
      "metadata": {
        "id": "VNgjfpI_5yCP",
        "outputId": "ecf4651e-1bf1-4682-fb4f-900b1878236c"
      },
      "outputs": [
        {
          "data": {
            "text/latex": [
              "$\\displaystyle \\left[\\begin{matrix}4.1 & 3.9\\\\4.7 & 4.2\\end{matrix}\\right]$"
            ],
            "text/plain": [
              "Matrix([\n",
              "[4.1, 3.9],\n",
              "[4.7, 4.2]])"
            ]
          },
          "execution_count": 7,
          "metadata": {},
          "output_type": "execute_result"
        }
      ],
      "source": [
        "X = Matrix([[4.1, 3.9], [4.7, 4.2]])\n",
        "X"
      ]
    },
    {
      "cell_type": "code",
      "execution_count": 8,
      "metadata": {
        "id": "ozA1NDs45yCA",
        "outputId": "868714cc-4afc-4ef9-e5f9-a13181f5fc31"
      },
      "outputs": [
        {
          "data": {
            "text/latex": [
              "$\\displaystyle \\left[\\begin{matrix}4.1 & 3.9 & 4\\\\4.7 & 4.2 & 4.3\\end{matrix}\\right]$"
            ],
            "text/plain": [
              "Matrix([\n",
              "[4.1, 3.9,   4],\n",
              "[4.7, 4.2, 4.3]])"
            ]
          },
          "execution_count": 8,
          "metadata": {},
          "output_type": "execute_result"
        }
      ],
      "source": [
        "X_augmented = Matrix([[4.1, 3.9, 4], [4.7, 4.2, 4.3]])\n",
        "X_augmented"
      ]
    },
    {
      "cell_type": "code",
      "execution_count": 9,
      "metadata": {
        "id": "kH0MyhbA5yCI",
        "outputId": "96bdc436-0a35-4fb4-8232-c800a8ae7fd4"
      },
      "outputs": [
        {
          "data": {
            "text/latex": [
              "$\\displaystyle \\left\\{\\left( -0.0270270270270284, \\  1.05405405405406\\right)\\right\\}$"
            ],
            "text/plain": [
              "{(-0.0270270270270284, 1.05405405405406)}"
            ]
          },
          "execution_count": 9,
          "metadata": {},
          "output_type": "execute_result"
        }
      ],
      "source": [
        "linsolve(X_augmented, [a1, a2])"
      ]
    },
    {
      "cell_type": "code",
      "execution_count": 10,
      "metadata": {
        "id": "C4EYKAmh5yCU",
        "outputId": "48cec184-06d3-467e-e693-115774eb176b"
      },
      "outputs": [
        {
          "data": {
            "text/latex": [
              "$\\displaystyle \\left[\\begin{matrix}a_{1}\\\\a_{2}\\end{matrix}\\right]$"
            ],
            "text/plain": [
              "Matrix([\n",
              "[a1],\n",
              "[a2]])"
            ]
          },
          "execution_count": 10,
          "metadata": {},
          "output_type": "execute_result"
        }
      ],
      "source": [
        "a = Matrix([a1, a2])\n",
        "a"
      ]
    },
    {
      "cell_type": "code",
      "execution_count": 11,
      "metadata": {
        "id": "zY6W4uwR5yCZ",
        "outputId": "268cdd59-fa34-4b01-b062-d15fd58fcbab"
      },
      "outputs": [
        {
          "data": {
            "text/latex": [
              "$\\displaystyle \\left[\\begin{matrix}4.1 a_{1} + 3.9 a_{2}\\\\4.7 a_{1} + 4.2 a_{2}\\end{matrix}\\right]$"
            ],
            "text/plain": [
              "Matrix([\n",
              "[4.1*a1 + 3.9*a2],\n",
              "[4.7*a1 + 4.2*a2]])"
            ]
          },
          "execution_count": 11,
          "metadata": {},
          "output_type": "execute_result"
        }
      ],
      "source": [
        "X * a"
      ]
    },
    {
      "cell_type": "code",
      "execution_count": 12,
      "metadata": {
        "id": "gc5GbbVi5yCf",
        "outputId": "bd63ffed-e3af-4e17-fd74-b1a9ed806cd6"
      },
      "outputs": [
        {
          "data": {
            "text/latex": [
              "$\\displaystyle \\left[\\begin{matrix}4\\\\4.3\\end{matrix}\\right]$"
            ],
            "text/plain": [
              "Matrix([\n",
              "[  4],\n",
              "[4.3]])"
            ]
          },
          "execution_count": 12,
          "metadata": {},
          "output_type": "execute_result"
        }
      ],
      "source": [
        "b = Matrix([4, 4.3])\n",
        "b"
      ]
    },
    {
      "cell_type": "code",
      "execution_count": 13,
      "metadata": {
        "id": "Wyag2Fli5yCk",
        "outputId": "0e8935c4-c92a-45ae-e485-6098dbe9f8e3"
      },
      "outputs": [
        {
          "data": {
            "text/latex": [
              "$\\displaystyle \\left[\\begin{matrix}4.1 a_{1} + 3.9 a_{2} - 4\\\\4.7 a_{1} + 4.2 a_{2} - 4.3\\end{matrix}\\right]$"
            ],
            "text/plain": [
              "Matrix([\n",
              "[  4.1*a1 + 3.9*a2 - 4],\n",
              "[4.7*a1 + 4.2*a2 - 4.3]])"
            ]
          },
          "execution_count": 13,
          "metadata": {},
          "output_type": "execute_result"
        }
      ],
      "source": [
        "X * a - b"
      ]
    },
    {
      "cell_type": "code",
      "execution_count": 14,
      "metadata": {
        "id": "BifGEjAy5yCq",
        "outputId": "b383604f-542c-4955-bff3-0a9a58e17116"
      },
      "outputs": [
        {
          "data": {
            "text/latex": [
              "$\\displaystyle \\left[\\begin{matrix}2 & 5\\\\7 & -3\\end{matrix}\\right]$"
            ],
            "text/plain": [
              "Matrix([\n",
              "[2,  5],\n",
              "[7, -3]])"
            ]
          },
          "execution_count": 14,
          "metadata": {},
          "output_type": "execute_result"
        }
      ],
      "source": [
        "X = Matrix([[2, 5], [7, -3]])\n",
        "X"
      ]
    },
    {
      "cell_type": "code",
      "execution_count": 15,
      "metadata": {
        "id": "HPrsu5DD5yCv",
        "outputId": "c602ec5a-980e-4889-9150-86b8969f2448"
      },
      "outputs": [
        {
          "data": {
            "text/latex": [
              "$\\displaystyle \\left[\\begin{matrix}2\\\\3\\end{matrix}\\right]$"
            ],
            "text/plain": [
              "Matrix([\n",
              "[2],\n",
              "[3]])"
            ]
          },
          "execution_count": 15,
          "metadata": {},
          "output_type": "execute_result"
        }
      ],
      "source": [
        "y = Matrix([2, 3])\n",
        "y"
      ]
    },
    {
      "cell_type": "code",
      "execution_count": 16,
      "metadata": {
        "id": "EaFdHOSY5yC0",
        "outputId": "efb63cb2-cf67-4134-914c-ae4caa54a724"
      },
      "outputs": [
        {
          "data": {
            "text/latex": [
              "$\\displaystyle \\left[\\begin{matrix}19\\\\5\\end{matrix}\\right]$"
            ],
            "text/plain": [
              "Matrix([\n",
              "[19],\n",
              "[ 5]])"
            ]
          },
          "execution_count": 16,
          "metadata": {},
          "output_type": "execute_result"
        }
      ],
      "source": [
        "X * y"
      ]
    },
    {
      "cell_type": "code",
      "execution_count": 17,
      "metadata": {},
      "outputs": [
        {
          "data": {
            "text/latex": [
              "$\\displaystyle \\left\\{\\left( 1, \\  2, \\  -2\\right)\\right\\}$"
            ],
            "text/plain": [
              "{(1, 2, -2)}"
            ]
          },
          "execution_count": 17,
          "metadata": {},
          "output_type": "execute_result"
        }
      ],
      "source": [
        "x, y, z = symbols(\"x, y, z\")\n",
        "A_1 = Matrix([[1, 1, 2, -1], [2, -1, 2, -4], [4, 1, 4, -2]])\n",
        "a_1 = [x, y, z]\n",
        "\n",
        "linsolve(A_1, a_1)"
      ]
    },
    {
      "cell_type": "code",
      "execution_count": 18,
      "metadata": {},
      "outputs": [
        {
          "data": {
            "text/latex": [
              "$\\displaystyle \\left[\\begin{matrix}-34\\\\-48\\end{matrix}\\right]$"
            ],
            "text/plain": [
              "Matrix([\n",
              "[-34],\n",
              "[-48]])"
            ]
          },
          "execution_count": 18,
          "metadata": {},
          "output_type": "execute_result"
        }
      ],
      "source": [
        "M = Matrix([[-1, 7], [8, 8]])\n",
        "m = Matrix([-1, -5])\n",
        "M*m"
      ]
    },
    {
      "cell_type": "code",
      "execution_count": 21,
      "metadata": {},
      "outputs": [
        {
          "data": {
            "text/latex": [
              "$\\displaystyle \\emptyset$"
            ],
            "text/plain": [
              "EmptySet"
            ]
          },
          "execution_count": 21,
          "metadata": {},
          "output_type": "execute_result"
        }
      ],
      "source": [
        "E = Matrix([[4.1, 3.9, 4], [4.7, 4.2, 4.3], [3.1, 2.9, 3.0], [4.9, 5.0, 4.9]])\n",
        "linsolve(E, [a1, a2])"
      ]
    }
  ],
  "metadata": {
    "colab": {
      "provenance": []
    },
    "kernelspec": {
      "display_name": "Python 3",
      "language": "python",
      "name": "python3"
    },
    "language_info": {
      "codemirror_mode": {
        "name": "ipython",
        "version": 3
      },
      "file_extension": ".py",
      "mimetype": "text/x-python",
      "name": "python",
      "nbconvert_exporter": "python",
      "pygments_lexer": "ipython3",
      "version": "3.11.5"
    }
  },
  "nbformat": 4,
  "nbformat_minor": 0
}
