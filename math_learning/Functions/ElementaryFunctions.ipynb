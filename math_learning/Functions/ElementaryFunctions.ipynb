{
 "cells": [
  {
   "cell_type": "markdown",
   "metadata": {},
   "source": [
    "Элементарные функции - представляют собой базовые элементы из которых строятся более сложные функции\n",
    "\n",
    "Пример:\n",
    "- Логистическая функция содержит в себе экспоненциальную функцию(это такая степенная функция у которой основание является константа e(2,71...))\n",
    "- Также в качестве функции активации служит arctan(aрктангенс) их ф-н содержащие корни\n",
    "- Степенные функции применяются в полимеальной регрессии"
   ]
  },
  {
   "cell_type": "code",
   "execution_count": 1,
   "metadata": {},
   "outputs": [],
   "source": [
    "%matplotlib inline\n",
    "# from ipywidgets import interactive\n",
    "import ipywidgets\n",
    "import matplotlib.pyplot as plt\n",
    "import numpy as np\n",
    "\n",
    "from sympy import *\n",
    "from sympy.plotting import plot\n",
    "\n",
    "init_printing(use_unicode=0, wrap_line=0, no_global=1)"
   ]
  },
  {
   "cell_type": "code",
   "execution_count": 30,
   "metadata": {},
   "outputs": [],
   "source": [
    "def get_polyfunc_title(koefs):\n",
    "    s_koefs = ''.join([f'+{koefs[i]}x^{len(koefs)-i-1}' if koefs[i]>0 \n",
    "                       else f'{koefs[i]}x^{len(koefs)-i-1}' if koefs[i]<0 \n",
    "                       else ''\n",
    "                       for i in range(len(koefs))])\n",
    "    expr = s_koefs.replace('x^0', '') \\\n",
    "                  .replace('+', ' + ') \\\n",
    "                  .replace('-', ' - ') \\\n",
    "                  .replace('x^1', 'x') \\\n",
    "                  .replace(' 1x', ' x')\n",
    "\n",
    "    if expr[:3]==' + ':\n",
    "        expr = expr[3:]\n",
    "    if expr:\n",
    "        return '$f(x) = ' + expr + '$'"
   ]
  },
  {
   "cell_type": "code",
   "execution_count": 37,
   "metadata": {},
   "outputs": [],
   "source": [
    "def line(k, b):\n",
    "    plt.figure(2)\n",
    "    plt.axhline(0, color='black')\n",
    "    plt.axvline(0, color='black')\n",
    "    \n",
    "    if k != 0:\n",
    "        f = lambda x: k*x + b\n",
    "        \n",
    "        x = np.linspace(-15, 15, num=1000)\n",
    "        plt.plot(x, k*x + b)\n",
    "    \n",
    "    plt.ylim(-35, 35)\n",
    "    plt.xlim(-10, 10)\n",
    "        \n",
    "    plt.title(get_polyfunc_title([k, b]))\n",
    "    plt.show()"
   ]
  },
  {
   "cell_type": "code",
   "execution_count": null,
   "metadata": {},
   "outputs": [],
   "source": [
    "# Линейная функция f(x) = kx + b\n",
    "interactive_plot = ipywidgets.interactive(line, k=(-5, 5, 0.1), b=(-5, 5, 0.1))\n",
    "output = interactive_plot.children[-1]\n",
    "output.layout.height = '520px' #size output\n",
    "interactive_plot"
   ]
  },
  {
   "cell_type": "code",
   "execution_count": 42,
   "metadata": {},
   "outputs": [
    {
     "data": {
      "application/vnd.jupyter.widget-view+json": {
       "model_id": "4b760b7277094db8bca793e0b3b739a8",
       "version_major": 2,
       "version_minor": 0
      },
      "text/plain": [
       "interactive(children=(FloatSlider(value=0.0, description='a', max=10.0, min=-10.0, step=0.5), FloatSlider(valu…"
      ]
     },
     "execution_count": 42,
     "metadata": {},
     "output_type": "execute_result"
    }
   ],
   "source": [
    "# Квадратичная ф-н: f(x) = ax**2 + bx + c; a != 0\n",
    "def parabola(a, b, c):\n",
    "    plt.figure(3)\n",
    "    plt.axhline(0, color='black')\n",
    "    plt.axvline(0, color='black')\n",
    "    \n",
    "    if a != 0:\n",
    "        f = lambda x: a*x**2 + b*x + c\n",
    "        \n",
    "        x = np.linspace(-15, 15, num=1000)\n",
    "        plt.plot(x, a*x**2 + b*x + c)\n",
    "    \n",
    "    plt.ylim(-35, 35)\n",
    "    plt.xlim(-10, 10)\n",
    "        \n",
    "    plt.title(get_polyfunc_title([a, b, c]))\n",
    "    plt.show()\n",
    "\n",
    "interactive_plot = ipywidgets.interactive(parabola, a=(-10, 10, 0.5), b=(-20, 20, 0.5), c=(-20, 20, 0.5))\n",
    "output = interactive_plot.children[-1]\n",
    "output.layout.height = '520px' #size output\n",
    "interactive_plot    "
   ]
  },
  {
   "cell_type": "code",
   "execution_count": 46,
   "metadata": {},
   "outputs": [
    {
     "data": {
      "application/vnd.jupyter.widget-view+json": {
       "model_id": "b26bba04e8fe42ffb273bbfc3c81080a",
       "version_major": 2,
       "version_minor": 0
      },
      "text/plain": [
       "interactive(children=(FloatSlider(value=0.0, description='a', max=10.0, min=-10.0, step=0.5), Output(layout=La…"
      ]
     },
     "execution_count": 46,
     "metadata": {},
     "output_type": "execute_result"
    }
   ],
   "source": [
    "# Показательная ф-н f(x) = a**x\n",
    "def exponential(a):\n",
    "    plt.figure(1)\n",
    "    plt.axhline(0, color='black')\n",
    "    plt.axvline(0, color='black')\n",
    "    \n",
    "    if a != 0:\n",
    "        f = lambda x: a**x\n",
    "        \n",
    "        x = np.linspace(-15, 15, num=1000)\n",
    "        plt.plot(x, a**x)\n",
    "    \n",
    "    plt.ylim(-35, 35)\n",
    "    plt.xlim(-10, 10)\n",
    "        \n",
    "    plt.title(get_polyfunc_title([a]))\n",
    "    plt.show()\n",
    "\n",
    "interactive_plot = ipywidgets.interactive(exponential, a=(-10, 10, 0.5))\n",
    "output = interactive_plot.children[-1]\n",
    "output.layout.height = '520px' #size output\n",
    "interactive_plot  "
   ]
  },
  {
   "cell_type": "code",
   "execution_count": 47,
   "metadata": {},
   "outputs": [
    {
     "data": {
      "application/vnd.jupyter.widget-view+json": {
       "model_id": "8463596cc2ca4febab797f9f00d11efc",
       "version_major": 2,
       "version_minor": 0
      },
      "text/plain": [
       "interactive(children=(FloatSlider(value=0.0, description='a', max=10.0, min=-10.0, step=0.5), Output(layout=La…"
      ]
     },
     "execution_count": 47,
     "metadata": {},
     "output_type": "execute_result"
    }
   ],
   "source": [
    "# Логарифмическая ф-н f(x) = e**x\n",
    "def logarithm(a):\n",
    "    plt.figure(1)\n",
    "    plt.axhline(0, color='black')\n",
    "    plt.axvline(0, color='black')\n",
    "    \n",
    "    if a != 0:\n",
    "        f = lambda x: E**x\n",
    "        \n",
    "        x = np.linspace(-15, 15, num=1000)\n",
    "        plt.plot(x, E**x)\n",
    "    \n",
    "    plt.ylim(-35, 35)\n",
    "    plt.xlim(-10, 10)\n",
    "        \n",
    "    plt.title(get_polyfunc_title([a]))\n",
    "    plt.show()\n",
    "\n",
    "interactive_plot = ipywidgets.interactive(logarithm, a=(-10, 10, 0.5))\n",
    "output = interactive_plot.children[-1]\n",
    "output.layout.height = '520px' #size output\n",
    "interactive_plot  "
   ]
  }
 ],
 "metadata": {
  "kernelspec": {
   "display_name": "base",
   "language": "python",
   "name": "python3"
  },
  "language_info": {
   "codemirror_mode": {
    "name": "ipython",
    "version": 3
   },
   "file_extension": ".py",
   "mimetype": "text/x-python",
   "name": "python",
   "nbconvert_exporter": "python",
   "pygments_lexer": "ipython3",
   "version": "3.11.5"
  }
 },
 "nbformat": 4,
 "nbformat_minor": 2
}
