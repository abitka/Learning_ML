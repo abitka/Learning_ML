{
 "cells": [
  {
   "cell_type": "code",
   "execution_count": 6,
   "metadata": {},
   "outputs": [],
   "source": [
    "from sympy import *\n",
    "\n",
    "init_printing(use_unicode=0, wrap_line=0, no_global=0)"
   ]
  },
  {
   "cell_type": "code",
   "execution_count": 2,
   "metadata": {},
   "outputs": [
    {
     "data": {
      "image/png": "[encoded data removed]",
      "text/latex": [
       "$\\displaystyle \\frac{x^{2}}{2}$"
      ],
      "text/plain": [
       " 2\n",
       "x \n",
       "--\n",
       "2 "
      ]
     },
     "execution_count": 2,
     "metadata": {},
     "output_type": "execute_result"
    }
   ],
   "source": [
    "# init symbol x\n",
    "x = Symbol(\"x\")\n",
    "\n",
    "x**2/2"
   ]
  },
  {
   "cell_type": "code",
   "execution_count": 3,
   "metadata": {},
   "outputs": [
    {
     "data": {
      "image/png": "[encoded data removed]",
      "text/latex": [
       "$\\displaystyle \\frac{a^{2} - b^{2}}{a^{2} + 2 a b + b^{2}}$"
      ],
      "text/plain": [
       "     2    2    \n",
       "    a  - b     \n",
       "---------------\n",
       " 2            2\n",
       "a  + 2*a*b + b "
      ]
     },
     "execution_count": 3,
     "metadata": {},
     "output_type": "execute_result"
    }
   ],
   "source": [
    "a, b = symbols(\"a, b\")\n",
    "\n",
    "expression = (a**2 - b**2) / (a**2 + 2*a*b + b**2)\n",
    "expression"
   ]
  },
  {
   "cell_type": "code",
   "execution_count": 4,
   "metadata": {},
   "outputs": [
    {
     "data": {
      "image/png": "[encoded data removed]",
      "text/latex": [
       "$\\displaystyle \\frac{a - b}{a + b}$"
      ],
      "text/plain": [
       "a - b\n",
       "-----\n",
       "a + b"
      ]
     },
     "execution_count": 4,
     "metadata": {},
     "output_type": "execute_result"
    }
   ],
   "source": [
    "# упрощаем выражение expression\n",
    "simplify(expression)"
   ]
  },
  {
   "cell_type": "code",
   "execution_count": 5,
   "metadata": {},
   "outputs": [
    {
     "name": "stdout",
     "output_type": "stream",
     "text": [
      "            /     2       \\\n",
      "/   3     \\ | 10*m        |\n",
      "\\8*m  + 27/*|------- - 5*m|\n",
      "            \\2*m + 3      /\n",
      "---------------------------\n",
      "            2              \n",
      "        30*m  - 15*m       \n"
     ]
    },
    {
     "data": {
      "image/png": "[encoded data removed]",
      "text/latex": [
       "$\\displaystyle \\frac{- 4 m^{2} + 6 m - 9}{2 m - 1}$"
      ],
      "text/plain": [
       "     2          \n",
       "- 4*m  + 6*m - 9\n",
       "----------------\n",
       "    2*m - 1     "
      ]
     },
     "execution_count": 5,
     "metadata": {},
     "output_type": "execute_result"
    }
   ],
   "source": [
    "# еще пример\n",
    "m = Symbol(\"m\")\n",
    "expression_2 = ((10*m**2) / (3 + 2*m) - 5*m) / ((30*m**2 - 15*m) / (8*m**3 + 27))\n",
    "print(pretty(expression_2))\n",
    "simplify(expression_2)"
   ]
  },
  {
   "cell_type": "markdown",
   "metadata": {},
   "source": [
    "# homework: simplified and solve"
   ]
  },
  {
   "cell_type": "code",
   "execution_count": 35,
   "metadata": {},
   "outputs": [
    {
     "name": "stdout",
     "output_type": "stream",
     "text": [
      "                                             2\n",
      "-3*x*(1.33333333333333*x + 4*y) + (2*x + 3*y) \n",
      "answer:\n",
      "   2\n",
      "9*y \n"
     ]
    },
    {
     "data": {
      "image/png": "[encoded data removed]",
      "text/latex": [
       "$\\displaystyle 27$"
      ],
      "text/plain": [
       "27"
      ]
     },
     "execution_count": 35,
     "metadata": {},
     "output_type": "execute_result"
    }
   ],
   "source": [
    "# 1. where x = -1.038; y = sqrt(3)\n",
    "x, y = symbols(\"x, y\")\n",
    "\n",
    "expression_1 = (2*x + 3*y)**2 - 3*x*(4/3*x + 4*y)\n",
    "print(pretty(expression_1))\n",
    "print(f\"answer:\\n{pretty(simplify(expression_1))}\")\n",
    "\n",
    "simplify(expression_1).subs([(x, -1.038), (y, sqrt(3))])"
   ]
  },
  {
   "cell_type": "code",
   "execution_count": 50,
   "metadata": {},
   "outputs": [
    {
     "data": {
      "image/png": "[encoded data removed]",
      "text/latex": [
       "$\\displaystyle 4 a^{2} + 49 b^{2}$"
      ],
      "text/plain": [
       "   2       2\n",
       "4*a  + 49*b "
      ]
     },
     "execution_count": 50,
     "metadata": {},
     "output_type": "execute_result"
    }
   ],
   "source": [
    "# 2. where a = sqrt(15); b = sqrt(8)\n",
    "expression_2 = 28*a*b + (2*a - 7*b)**2\n",
    "expression_2\n",
    "\n",
    "simplify(expression_2)"
   ]
  },
  {
   "cell_type": "code",
   "execution_count": 51,
   "metadata": {},
   "outputs": [
    {
     "data": {
      "image/png": "[encoded data removed]",
      "text/latex": [
       "$\\displaystyle \\frac{7}{10 a}$"
      ],
      "text/plain": [
       " 7  \n",
       "----\n",
       "10*a"
      ]
     },
     "execution_count": 51,
     "metadata": {},
     "output_type": "execute_result"
    }
   ],
   "source": [
    "# 3. where a = 0.7; \n",
    "expression_3 = (a/2 + a/5) * 1/a**2\n",
    "expression_3\n",
    "\n",
    "simplify(expression_3)"
   ]
  },
  {
   "cell_type": "code",
   "execution_count": 54,
   "metadata": {},
   "outputs": [
    {
     "data": {
      "image/png": "[encoded data removed]",
      "text/latex": [
       "$\\displaystyle \\frac{x \\left(x - 4\\right)}{x \\left(x + 2\\right) - 4}$"
      ],
      "text/plain": [
       "  x*(x - 4)  \n",
       "-------------\n",
       "x*(x + 2) - 4"
      ]
     },
     "execution_count": 54,
     "metadata": {},
     "output_type": "execute_result"
    }
   ],
   "source": [
    "# 4. where x = 5;\n",
    "expression_4 = (x - 6*x / x + 2) / (x - 4 / x + 2)\n",
    "expression_4\n",
    "\n",
    "simplify(expression_4)"
   ]
  },
  {
   "cell_type": "code",
   "execution_count": 74,
   "metadata": {},
   "outputs": [
    {
     "data": {
      "image/png": "[encoded data removed]",
      "text/latex": [
       "$\\displaystyle 9 a^{2} + 4 b^{2}$"
      ],
      "text/plain": [
       "   2      2\n",
       "9*a  + 4*b "
      ]
     },
     "execution_count": 74,
     "metadata": {},
     "output_type": "execute_result"
    }
   ],
   "source": [
    "# 5.\n",
    "expression_5 = (4/a**2 + 9/b**2) * (a*b)**2\n",
    "expression_5\n",
    "\n",
    "simplify(expression_5)"
   ]
  },
  {
   "cell_type": "code",
   "execution_count": 85,
   "metadata": {},
   "outputs": [
    {
     "data": {
      "image/png": "[encoded data removed]",
      "text/latex": [
       "$\\displaystyle 5 k^{5} - 10 k + 0.5$"
      ],
      "text/plain": [
       "   5             \n",
       "5*k  - 10*k + 0.5"
      ]
     },
     "execution_count": 85,
     "metadata": {},
     "output_type": "execute_result"
    }
   ],
   "source": [
    "# 6.\n",
    "c, k = symbols(\"x, k\")\n",
    "expression_6 = 5/c*k**2 * k**3*c - 10*k + 1 / 2\n",
    "expression_6\n",
    "\n",
    "simplify(expression_6)"
   ]
  },
  {
   "cell_type": "code",
   "execution_count": 87,
   "metadata": {},
   "outputs": [
    {
     "name": "stdout",
     "output_type": "stream",
     "text": [
      "   2                        \n",
      "3*x  + 4*x   x + 8   2*x + 7\n",
      "---------- - ----- - -------\n",
      "  2          x - 2      x   \n",
      " x  - 2*x                   \n"
     ]
    },
    {
     "data": {
      "image/png": "[encoded data removed]",
      "text/latex": [
       "$\\displaystyle - \\frac{7}{x}$"
      ],
      "text/plain": [
       "-7 \n",
       "---\n",
       " x "
      ]
     },
     "execution_count": 87,
     "metadata": {},
     "output_type": "execute_result"
    }
   ],
   "source": [
    "# 7.\n",
    "expression_7 = (3*x**2 + 4*x) / (x**2 - 2*x) - (2*x + 7) / x - (x + 8) / (x - 2)\n",
    "print(pretty(expression_7))\n",
    "\n",
    "simplify(expression_7)"
   ]
  },
  {
   "cell_type": "code",
   "execution_count": 73,
   "metadata": {},
   "outputs": [
    {
     "data": {
      "image/png": "[encoded data removed]",
      "text/latex": [
       "$\\displaystyle -2$"
      ],
      "text/plain": [
       "-2"
      ]
     },
     "execution_count": 73,
     "metadata": {},
     "output_type": "execute_result"
    }
   ],
   "source": [
    "# 8. .subs([(a, 81), (c, 82)])\n",
    "c = Symbol(\"c\")\n",
    "\n",
    "expression_8 = (2*a) / (9*c) - (4*a**2 + 81*c**2) / (18*a*c) + (9*c - 4*a) / (2*a)\n",
    "expression_8\n",
    "\n",
    "simplify(expression_8)"
   ]
  }
 ],
 "metadata": {
  "kernelspec": {
   "display_name": "base",
   "language": "python",
   "name": "python3"
  },
  "language_info": {
   "codemirror_mode": {
    "name": "ipython",
    "version": 3
   },
   "file_extension": ".py",
   "mimetype": "text/x-python",
   "name": "python",
   "nbconvert_exporter": "python",
   "pygments_lexer": "ipython3",
   "version": "3.11.5"
  }
 },
 "nbformat": 4,
 "nbformat_minor": 2
}
