{
 "cells": [
  {
   "cell_type": "code",
   "execution_count": 1,
   "metadata": {},
   "outputs": [],
   "source": [
    "import math \n",
    "from math import factorial as fcl\n",
    "from math import gcd\n",
    "import numpy as np\n",
    "import scipy.stats as st\n",
    "from sympy import *\n",
    "from sympy import plot\n",
    "from sympy import solve_univariate_inequality\n",
    "init_printing(use_unicode=False, wrap_line=False, no_global=True)"
   ]
  },
  {
   "cell_type": "code",
   "execution_count": 8,
   "metadata": {},
   "outputs": [
    {
     "name": "stdout",
     "output_type": "stream",
     "text": [
      "(-3.93, 6.75)\n"
     ]
    }
   ],
   "source": [
    "v_magnitude = 5\n",
    "v_direction = 70;\n",
    "\n",
    "w_magnitude = 6\n",
    "w_direction = 160;\n",
    "\n",
    "\n",
    "v = v_magnitude * (math.cos(math.radians(v_direction))) + w_magnitude * (math.cos(math.radians(w_direction)))\n",
    "w = v_magnitude * (math.sin(math.radians(v_direction))) + w_magnitude * (math.sin(math.radians(w_direction)))\n",
    "\n",
    "print(\"({:.2f}, {:.2f})\".format(v, w))"
   ]
  },
  {
   "cell_type": "code",
   "execution_count": 9,
   "metadata": {},
   "outputs": [
    {
     "data": {
      "image/png": "[encoded data removed]",
      "text/latex": [
       "$\\displaystyle 0.0477903522728147$"
      ],
      "text/plain": [
       "0.047790352272814696"
      ]
     },
     "execution_count": 9,
     "metadata": {},
     "output_type": "execute_result"
    }
   ],
   "source": [
    "import scipy.stats as st\n",
    "\n",
    "1 - st.norm.cdf((125-100)/15)"
   ]
  },
  {
   "cell_type": "code",
   "execution_count": null,
   "metadata": {},
   "outputs": [],
   "source": [
    "from math import gcd\n",
    " \n",
    "#  if some n1 == 0-9 -> n1/1\n",
    "n1, d1 = map(int, input().split('/'))\n",
    "n2, d2 = map(int, input().split('/'))\n",
    " \n",
    "\n",
    "cd = int(d1*d2/gcd(d1, d2))\n",
    "rn = int(cd/d1*n1 + cd/d2*n2)\n",
    "g2 = gcd(rn, cd)\n",
    "n = int(rn/g2)\n",
    "d = int(cd/g2)\n",
    "print('{}/{}'.format(n, d) if n != d else n)\n"
   ]
  },
  {
   "cell_type": "code",
   "execution_count": null,
   "metadata": {},
   "outputs": [],
   "source": [
    "def CountCombinations(n, k):\n",
    "    return fcl(n) / (fcl(k) * fcl(n - k))"
   ]
  },
  {
   "cell_type": "code",
   "execution_count": 2,
   "metadata": {},
   "outputs": [
    {
     "name": "stdout",
     "output_type": "stream",
     "text": [
      "a=0.4\n",
      "non_a=0.6\n",
      "odd=0.01\n",
      "[1, 41]\n",
      "[1, 2, 41]\n",
      "7\n",
      "0.07\n"
     ]
    }
   ],
   "source": [
    "all = 500\n",
    "A = 200\n",
    "a = A / all\n",
    "non_a = 1 - A / all\n",
    "odd = 5 / all\n",
    "print(f\"a={a}\")\n",
    "print(f\"non_a={non_a}\")\n",
    "print(f\"odd={odd}\")\n",
    "\n",
    "res = []\n",
    "res_2 = []\n",
    "min = 41\n",
    "max = 82\n",
    "for i in range(1, min + 1):\n",
    "    if (min % i == 0): res.append(i)\n",
    "    if (max % i == 0): res_2.append(i)\n",
    "\n",
    "print(res)\n",
    "print(res_2)\n",
    "\n",
    "n = 14\n",
    "min = 1\n",
    "max = 11\n",
    "count = 0\n",
    "for i in range(min, max):\n",
    "    for j in range(min, max):\n",
    "        if (i + j == n): count+=1\n",
    "\n",
    "print(count)\n",
    "print(count / 100)"
   ]
  },
  {
   "cell_type": "code",
   "execution_count": null,
   "metadata": {},
   "outputs": [
    {
     "name": "stdout",
     "output_type": "stream",
     "text": [
      "56.0\n",
      "210.0\n",
      "1716.0\n"
     ]
    }
   ],
   "source": [
    "print(CountCombinations(8, 5))\n",
    "\n",
    "print(CountCombinations(10, 6))\n",
    "print(CountCombinations(13, 6))"
   ]
  },
  {
   "cell_type": "code",
   "execution_count": null,
   "metadata": {},
   "outputs": [
    {
     "name": "stdout",
     "output_type": "stream",
     "text": [
      "m=24.0 / n=56.0\n"
     ]
    }
   ],
   "source": [
    "n = CountCombinations((5+4)-1, 5)\n",
    "5-1\n",
    "3-1\n",
    "m = 4 * (CountCombinations(5-1, 3-1))\n",
    "\n",
    "print(f\"m={m} / n={n}\")"
   ]
  },
  {
   "cell_type": "code",
   "execution_count": null,
   "metadata": {},
   "outputs": [],
   "source": [
    "x = Symbol(\"x\")\n",
    "\n",
    "res = (3*x**2 + 4*x) / (x**2 - 2*x) - (2*x + 7) / x - (x + 8) / (x - 2)\n",
    "res = simplify(res)\n",
    "res\n",
    "\n",
    "res = log(1000000, 10)\n",
    "res"
   ]
  },
  {
   "cell_type": "code",
   "execution_count": null,
   "metadata": {},
   "outputs": [
    {
     "data": {
      "image/png": "[encoded data removed]",
      "text/latex": [
       "$\\displaystyle 1.00998492119293$"
      ],
      "text/plain": [
       "1.0099849211929313"
      ]
     },
     "execution_count": 90,
     "metadata": {},
     "output_type": "execute_result"
    }
   ],
   "source": [
    "pow(1.43, 1/36) #корень N-ной степени n√x\n",
    "1.43**(1/36) #корень N-ной степени n√x"
   ]
  },
  {
   "cell_type": "code",
   "execution_count": null,
   "metadata": {},
   "outputs": [
    {
     "data": {
      "image/png": "[encoded data removed]",
      "text/latex": [
       "$\\displaystyle \\log{\\left(3628800 \\right)}$"
      ],
      "text/plain": [
       "log(3628800)"
      ]
     },
     "execution_count": 151,
     "metadata": {},
     "output_type": "execute_result"
    }
   ],
   "source": [
    "# sum(map(log, range(1, n+1)))\n",
    "def sumLn(n):\n",
    "    res = 0\n",
    "    for i in range(1, n + 1):\n",
    "        res += log(i)\n",
    "    return res\n",
    "\n",
    "simplify(sumLn(10))"
   ]
  },
  {
   "cell_type": "code",
   "execution_count": null,
   "metadata": {},
   "outputs": [
    {
     "data": {
      "image/png": "[encoded data removed]",
      "text/latex": [
       "$\\displaystyle \\log{\\left(3628800 \\right)}$"
      ],
      "text/plain": [
       "log(3628800)"
      ]
     },
     "execution_count": 152,
     "metadata": {},
     "output_type": "execute_result"
    }
   ],
   "source": [
    "# log(prod(range(1, n+1)))\n",
    "def multiplyLn(n):\n",
    "    res = 1\n",
    "    for i in range(1, n + 1):\n",
    "        res *= i\n",
    "    return ln(res)\n",
    "\n",
    "multiplyLn(10)"
   ]
  },
  {
   "cell_type": "code",
   "execution_count": null,
   "metadata": {},
   "outputs": [],
   "source": []
  }
 ],
 "metadata": {
  "kernelspec": {
   "display_name": "base",
   "language": "python",
   "name": "python3"
  },
  "language_info": {
   "codemirror_mode": {
    "name": "ipython",
    "version": 3
   },
   "file_extension": ".py",
   "mimetype": "text/x-python",
   "name": "python",
   "nbconvert_exporter": "python",
   "pygments_lexer": "ipython3",
   "version": "3.11.5"
  }
 },
 "nbformat": 4,
 "nbformat_minor": 2
}
